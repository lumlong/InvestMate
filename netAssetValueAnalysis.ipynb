{
 "cells": [
  {
   "cell_type": "markdown",
   "metadata": {},
   "source": [
    "# Setup"
   ]
  },
  {
   "cell_type": "code",
   "execution_count": 1,
   "metadata": {},
   "outputs": [],
   "source": [
    "import requests\n",
    "import json\n",
    "import datetime\n",
    "import time\n",
    "import pandas as pd\n",
    "from selenium import webdriver \n",
    "from selenium.webdriver import ActionChains\n",
    "from selenium.webdriver.chrome.options import Options\n",
    "from selenium.webdriver.common.by import By\n",
    "from matplotlib import pyplot as plt"
   ]
  },
  {
   "cell_type": "code",
   "execution_count": 2,
   "metadata": {},
   "outputs": [],
   "source": [
    "# Chart SharePrice/NetAssetValue\n",
    "# X = Time\n",
    "# Y = Percetage from one"
   ]
  },
  {
   "cell_type": "markdown",
   "metadata": {},
   "source": [
    "# Scrape Data from macrotrends.com"
   ]
  },
  {
   "cell_type": "code",
   "execution_count": 3,
   "metadata": {},
   "outputs": [],
   "source": [
    "chrome_options = Options()\n",
    "chrome_options.add_argument(\"--headless\")\n",
    "driver = webdriver.Chrome()\n",
    "\n",
    "# url = 'https://www.macrotrends.net/stocks/charts/AMZN/amazon/income-statement?freq=Q'\n",
    "url = 'https://www.macrotrends.net/stocks/charts/AMZN/amazon/balance-sheet?freq=Q'\n",
    "driver.get(url)\n",
    "geturl = driver.current_url"
   ]
  },
  {
   "cell_type": "code",
   "execution_count": 4,
   "metadata": {},
   "outputs": [],
   "source": [
    "#find scroll and slide to right\n",
    "scroller =  driver.find_element(By.XPATH, '//div[@id=\"jqxScrollThumbhorizontalScrollBarjqxgrid\"]')\n",
    "end_scroller = driver.find_element(By.XPATH, '//div[@id=\"jqxScrollBtnDownhorizontalScrollBarjqxgrid\"]')\n",
    "move = ActionChains(driver)\n",
    "# move.click_and_hold(scroller).move_by_offset(120, 0).release().perform()\n",
    "# move.click_and_hold(scroller).move_to_element(end_scroller).perform()\n",
    "headers_el = driver.find_element(By.XPATH, '//div[@id=\"columntablejqxgrid\"]')\n",
    "table_el = driver.find_element(By.XPATH, '//div[@id=\"contenttablejqxgrid\"]')\n",
    "rows_el = table_el.find_elements(By.XPATH, '//div[@role=\"row\"]')\n"
   ]
  },
  {
   "cell_type": "code",
   "execution_count": 5,
   "metadata": {},
   "outputs": [],
   "source": [
    "\n",
    "def getAttribute():\n",
    "    '''\n",
    "    Get attribute for infinity scroll loader\n",
    "    Return z-index position\n",
    "    '''\n",
    "    \n",
    "    headers = headers_el.find_elements(By.XPATH, '//div[@role=\"columnheader\"]')\n",
    "    l = []\n",
    "    for header in headers:\n",
    "        styles = header.get_dom_attribute('style').split('; ')\n",
    "        l2 = []\n",
    "        # print(styles)\n",
    "        for style in styles:\n",
    "            # print(style)\n",
    "            l2.append(map(str.strip, style.split(': ', 1)))\n",
    "        l.append(dict(l2))\n",
    "\n",
    "    out = [int(i['z-index']) for i in l]\n",
    "    out.sort(reverse=True)\n",
    "    return out[2:len(out)]"
   ]
  },
  {
   "cell_type": "markdown",
   "metadata": {},
   "source": [
    "# Fetch data"
   ]
  },
  {
   "cell_type": "code",
   "execution_count": 6,
   "metadata": {},
   "outputs": [],
   "source": [
    "def fetchToDf():\n",
    "    '''\n",
    "    Parse html to pd.DataFrame\n",
    "    '''\n",
    "    headertext = headers_el.text.split('\\n')\n",
    "    datatext = [row.text.split('\\n')[:len(headertext)] for row in rows_el]\n",
    "    df = pd.DataFrame(data=datatext, columns=headertext)\n",
    "    return df.set_index(df.columns[0])\n",
    "\n",
    "def merge2Df(prev_df, next_df):\n",
    "    '''\n",
    "    Merge 2 Df frome infinity scrool load\n",
    "    '''\n",
    "    df = prev_df.combine_first(next_df)\n",
    "    return df"
   ]
  },
  {
   "cell_type": "code",
   "execution_count": 8,
   "metadata": {},
   "outputs": [],
   "source": [
    "# 1. Get current_pos\n",
    "# 2. Constantly scrolling\n",
    "# 3. Get update_pos\n",
    "# 4. When update_pos <= current_pos-5\n",
    "# 4.1 Stop scrolling\n",
    "# 4.2 Fetch data\n",
    "# 4.3 Update current_pos to current position-5\n",
    "# 5. When scroll not update anymore position\n",
    "# 5.1 Break loop\n",
    "\n",
    "# Scroll load maximum 6 cols, use -5 to ruduce over scrolling error\n",
    "current_pos = min(getAttribute())-5\n",
    "# print(f'current_pos: {current_pos} of {getAttribute()}')\n",
    "last_pos = 0\n",
    "repetness = 0\n",
    "out_df = pd.DataFrame()\n",
    "# For debugging\n",
    "# i = []\n",
    "\n",
    "while True:\n",
    "    # constanly slide and update\n",
    "    move.click_and_hold(end_scroller).perform()\n",
    "    time.sleep(1)\n",
    "    update_pos = min(getAttribute())\n",
    "    # print(f'update_pos: {update_pos} of {getAttribute()}')\n",
    "    \n",
    "    # if last list is loaded do fetch data\n",
    "    if update_pos <= current_pos:\n",
    "        \n",
    "        # print('cur == upd')\n",
    "        move.release(end_scroller)\n",
    "        # fetch_df = fetchToDf()\n",
    "        # i.append(fetch_df)\n",
    "        \n",
    "        #do something\n",
    "        if out_df.empty:\n",
    "            out_df = fetchToDf()\n",
    "        elif not out_df.empty:\n",
    "            out_df = merge2Df(out_df, fetchToDf())\n",
    "        \n",
    "        current_pos = min(getAttribute())-5\n",
    "        # print(f'current_pos: {current_pos} of {getAttribute()}')\n",
    "        \n",
    "    # if no more update\n",
    "    if last_pos == update_pos:\n",
    "        \n",
    "        # print(last_pos)\n",
    "        repetness += 1\n",
    "        # print(repetness)\n",
    "\n",
    "        # more than 10 time, break\n",
    "        if repetness == 4:\n",
    "            # i.append(fetchToDf())\n",
    "            break\n",
    "        \n",
    "    elif last_pos != update_pos:\n",
    "        repetness = 0\n",
    "    \n",
    "    last_pos = update_pos"
   ]
  },
  {
   "cell_type": "code",
   "execution_count": 9,
   "metadata": {},
   "outputs": [
    {
     "data": {
      "text/html": [
       "<div>\n",
       "<style scoped>\n",
       "    .dataframe tbody tr th:only-of-type {\n",
       "        vertical-align: middle;\n",
       "    }\n",
       "\n",
       "    .dataframe tbody tr th {\n",
       "        vertical-align: top;\n",
       "    }\n",
       "\n",
       "    .dataframe thead th {\n",
       "        text-align: right;\n",
       "    }\n",
       "</style>\n",
       "<table border=\"1\" class=\"dataframe\">\n",
       "  <thead>\n",
       "    <tr style=\"text-align: right;\">\n",
       "      <th></th>\n",
       "    </tr>\n",
       "  </thead>\n",
       "  <tbody>\n",
       "  </tbody>\n",
       "</table>\n",
       "</div>"
      ],
      "text/plain": [
       "Empty DataFrame\n",
       "Columns: []\n",
       "Index: []"
      ]
     },
     "execution_count": 9,
     "metadata": {},
     "output_type": "execute_result"
    }
   ],
   "source": [
    "out_df.head(5)"
   ]
  },
  {
   "cell_type": "code",
   "execution_count": 10,
   "metadata": {},
   "outputs": [],
   "source": [
    "# out_df.to_csv('/Users/lumlong/Desktop/d_AMZN.csv')"
   ]
  },
  {
   "cell_type": "markdown",
   "metadata": {},
   "source": [
    "# Parse data"
   ]
  },
  {
   "cell_type": "code",
   "execution_count": 11,
   "metadata": {},
   "outputs": [],
   "source": [
    "df = pd.read_csv('/Users/lumlong/Desktop/d_AMZN.csv')"
   ]
  },
  {
   "cell_type": "code",
   "execution_count": 12,
   "metadata": {},
   "outputs": [],
   "source": [
    "df = df.set_index(df.columns[0]).T\n",
    "df.columns.name = 'Date'\n",
    "df.index = pd.to_datetime(df.index, format='%Y-%m-%d')\n",
    "\n",
    "# parsed_df = df[df.columns[0:]].replace('[\\$,]', '', regex=True)\n",
    "df = df.replace('[\\$,]', '', regex=True)\n",
    "df = df.replace('-', 0)\n",
    "df = df.astype('float', errors='ignore')"
   ]
  },
  {
   "cell_type": "code",
   "execution_count": null,
   "metadata": {},
   "outputs": [],
   "source": [
    "df.head(5)"
   ]
  },
  {
   "cell_type": "code",
   "execution_count": 13,
   "metadata": {},
   "outputs": [],
   "source": [
    "asset_selected_df = df[df.index > datetime.datetime(2016, 3, 31)]"
   ]
  },
  {
   "cell_type": "code",
   "execution_count": 14,
   "metadata": {},
   "outputs": [
    {
     "name": "stderr",
     "output_type": "stream",
     "text": [
      "/var/folders/hy/qt5ys1v514bd88slhsnqqf_w0000gn/T/ipykernel_3603/2277241534.py:4: SettingWithCopyWarning: \n",
      "A value is trying to be set on a copy of a slice from a DataFrame.\n",
      "Try using .loc[row_indexer,col_indexer] = value instead\n",
      "\n",
      "See the caveats in the documentation: https://pandas.pydata.org/pandas-docs/stable/user_guide/indexing.html#returning-a-view-versus-a-copy\n",
      "  asset_selected_df['pct_change'] = (asset_selected_df['Total Assets'] / asset_selected_df['Total Assets'].iloc[0] - 1) * 100\n"
     ]
    }
   ],
   "source": [
    "# df['Total Assets'].apply(lambda x: (x/x.iloc[0])-1)\n",
    "# df['Total Assets pct'] = 100 * (1 - df['Total Assets'].iloc[0] / df['Total Assets'])\n",
    "\n",
    "asset_selected_df['pct_change'] = (asset_selected_df['Total Assets'] / asset_selected_df['Total Assets'].iloc[0] - 1) * 100"
   ]
  },
  {
   "cell_type": "code",
   "execution_count": 15,
   "metadata": {},
   "outputs": [
    {
     "data": {
      "text/plain": [
       "[<matplotlib.lines.Line2D at 0x11947a8b0>]"
      ]
     },
     "execution_count": 15,
     "metadata": {},
     "output_type": "execute_result"
    },
    {
     "data": {
      "image/png": "[encoded data removed]",
      "text/plain": [
       "<Figure size 1080x504 with 1 Axes>"
      ]
     },
     "metadata": {
      "needs_background": "light"
     },
     "output_type": "display_data"
    }
   ],
   "source": [
    "plt.figure(figsize = (15,7))\n",
    "plt.plot(asset_selected_df.index, asset_selected_df['pct_change'])"
   ]
  },
  {
   "cell_type": "markdown",
   "metadata": {},
   "source": [
    "# Price data from csv"
   ]
  },
  {
   "cell_type": "code",
   "execution_count": 16,
   "metadata": {},
   "outputs": [],
   "source": [
    "price_df = pd.read_csv('/Users/lumlong/Desktop/MacroTrends_Data_Download_AMZN.csv', on_bad_lines='skip')"
   ]
  },
  {
   "cell_type": "code",
   "execution_count": 17,
   "metadata": {},
   "outputs": [],
   "source": [
    "price_df = price_df.set_index('date')\n",
    "price_df.index = pd.to_datetime(price_df.index, format='%Y-%m-%d')\n",
    "price_selected_df = price_df[price_df.index > datetime.datetime(2016,3,31)]"
   ]
  },
  {
   "cell_type": "code",
   "execution_count": 18,
   "metadata": {},
   "outputs": [
    {
     "name": "stderr",
     "output_type": "stream",
     "text": [
      "/var/folders/hy/qt5ys1v514bd88slhsnqqf_w0000gn/T/ipykernel_3603/3755959216.py:1: SettingWithCopyWarning: \n",
      "A value is trying to be set on a copy of a slice from a DataFrame.\n",
      "Try using .loc[row_indexer,col_indexer] = value instead\n",
      "\n",
      "See the caveats in the documentation: https://pandas.pydata.org/pandas-docs/stable/user_guide/indexing.html#returning-a-view-versus-a-copy\n",
      "  price_selected_df['pct_change'] = (price_selected_df['close'] / price_selected_df['close'].iloc[0] - 1) * 100\n"
     ]
    }
   ],
   "source": [
    "price_selected_df['pct_change'] = (price_selected_df['close'] / price_selected_df['close'].iloc[0] - 1) * 100"
   ]
  },
  {
   "cell_type": "code",
   "execution_count": 19,
   "metadata": {},
   "outputs": [
    {
     "data": {
      "text/plain": [
       "[<matplotlib.lines.Line2D at 0x11a76c820>]"
      ]
     },
     "execution_count": 19,
     "metadata": {},
     "output_type": "execute_result"
    },
    {
     "data": {
      "image/png": "[encoded data removed]",
      "text/plain": [
       "<Figure size 1080x504 with 1 Axes>"
      ]
     },
     "metadata": {
      "needs_background": "light"
     },
     "output_type": "display_data"
    }
   ],
   "source": [
    "plt.figure(figsize = (15,7))\n",
    "plt.plot(price_selected_df.index, price_selected_df['pct_change'])\n",
    "plt.plot(asset_selected_df.index, asset_selected_df['pct_change'])"
   ]
  }
 ],
 "metadata": {
  "interpreter": {
   "hash": "e22458f1db28faee6017068efbc862ad0fed789a0e32402b5e88b3f2254294cf"
  },
  "kernelspec": {
   "display_name": "Python 3.9.12 ('.datascienv': venv)",
   "language": "python",
   "name": "python3"
  },
  "language_info": {
   "codemirror_mode": {
    "name": "ipython",
    "version": 3
   },
   "file_extension": ".py",
   "mimetype": "text/x-python",
   "name": "python",
   "nbconvert_exporter": "python",
   "pygments_lexer": "ipython3",
   "version": "3.9.12"
  },
  "orig_nbformat": 4
 },
 "nbformat": 4,
 "nbformat_minor": 2
}
