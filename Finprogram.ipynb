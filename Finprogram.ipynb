{
 "cells": [
  {
   "cell_type": "markdown",
   "metadata": {},
   "source": [
    "<h1>Import module</h1>"
   ]
  },
  {
   "cell_type": "code",
   "execution_count": 1,
   "metadata": {},
   "outputs": [],
   "source": [
    "import investpy as inv\n",
    "import pandas as pd\n",
    "import sqlite3\n",
    "import numpy as np\n",
    "import datetime\n",
    "import time\n",
    "import plotly.graph_objects as go\n",
    "import pandas_ta as ta\n",
    "import matplotlib\n",
    "import requests\n",
    "from random import randint"
   ]
  },
  {
   "cell_type": "markdown",
   "metadata": {},
   "source": [
    "<h1>Get data manual way</h1>"
   ]
  },
  {
   "cell_type": "code",
   "execution_count": 40,
   "metadata": {},
   "outputs": [],
   "source": [
    "class SearchObj():\n",
    "    def __init__(self, id_, name, symbol, country, tag, pair_type, exchange):\n",
    "        self.id_=id_\n",
    "        self.name=name\n",
    "        self.symbol=symbol\n",
    "        self.country=country\n",
    "        self.tag=tag\n",
    "        self.pair_type=pair_type\n",
    "        self.exchange=exchange\n",
    "    \n",
    "    def get_historical_data(self, start_date, end_date):\n",
    "        \"\"\"\n",
    "        start_date format = dd/mm/yyyy\n",
    "        \"\"\"\n",
    "\n",
    "        header = \"\"\n",
    "        \n",
    "        if self.pair_type in [\"stocks\", \"funds\", \"etfs\", \"currencies\", \"certificates\"]:\n",
    "            header = f\"{self.symbol} Historical Data\"\n",
    "        elif self.pair_type in [\"bonds\"]:\n",
    "            header = f\"{self.name} Bond Yield Historical Data\"\n",
    "        elif self.pair_type in [\"indices\", \"commodities\", \"cryptos\", \"fxfutures\"]:\n",
    "            header = f\"{self.name} Historical Data\"\n",
    "\n",
    "        params = {\n",
    "            \"MIME Type\": \"application/x-www-form-urlencoded\",\n",
    "            \"curr_id\": self.id_,\n",
    "            \"smlID\": str(randint(1000000, 99999999)),\n",
    "            \"header\": header,\n",
    "            \"st_date\": start_date,\n",
    "            \"end_date\": end_date,\n",
    "            \"interval_sec\": \"Daily\",\n",
    "            \"sort_col\": \"date\",\n",
    "            \"sort_ord\": \"DESC\",\n",
    "            \"action\": \"historical_data\",\n",
    "            }\n",
    "\n",
    "        headers = {\n",
    "            \"User-Agent\": \"Mozilla/5.0 (X11; Linux x86_64) AppleWebKit/537.36 (KHTML, like Gecko) Chrome/77.0.3865.90 Safari/537.36\",\n",
    "            \"X-Requested-With\": \"XMLHttpRequest\",\n",
    "            \"Accept\": \"text/html\",\n",
    "            \"Accept-Encoding\": \"gzip, deflate\",\n",
    "            \"Connection\": \"keep-alive\",\n",
    "        }\n",
    "\n",
    "        url = \"https://www.investing.com/instruments/HistoricalDataAjax\"\n",
    "\n",
    "        req = requests.post(url, headers=headers, data=params)\n",
    "\n",
    "        hist_data = req.text\n",
    "\n",
    "        list_of_df = pd.read_html(hist_data, attrs= {\"id\": \"curr_table\"})\n",
    "        merge_hist_df = pd.concat(list_of_df)\n",
    "        return merge_hist_df"
   ]
  },
  {
   "cell_type": "code",
   "execution_count": 26,
   "metadata": {},
   "outputs": [],
   "source": [
    "def search_quotes(text, products=None, countries=None, n_results=None):\n",
    "    \n",
    "    params = {\n",
    "        \"search_text\": text,\n",
    "        \"tab\": \"quotes\",\n",
    "        \"isFilter\": True,\n",
    "        \"limit\": 270,\n",
    "        \"offset\": 0,\n",
    "    }\n",
    "\n",
    "    headers = {\n",
    "        \"User-Agent\": \"Mozilla/5.0 (X11; Linux x86_64) AppleWebKit/537.36 (KHTML, like Gecko) Chrome/77.0.3865.90 Safari/537.36\",\n",
    "        \"X-Requested-With\": \"XMLHttpRequest\",\n",
    "        \"Accept\": \"text/html\",\n",
    "        \"Accept-Encoding\": \"gzip, deflate\",\n",
    "        \"Connection\": \"keep-alive\",\n",
    "    }\n",
    "\n",
    "    url = \"https://www.investing.com/search/service/SearchInnerPage\"\n",
    "\n",
    "    search_results = list()\n",
    "    total_results = None\n",
    "    user_limit = True if n_results is not None else False\n",
    "\n",
    "    while True:\n",
    "        req = requests.post(url, headers=headers, data=params)\n",
    "\n",
    "        if req.status_code != 200:\n",
    "            raise ConnectionError(\n",
    "                f\"ERR#0015: error {req.status_code}, try again later.\"\n",
    "            )\n",
    "\n",
    "        data = req.json()\n",
    "\n",
    "        if data[\"total\"][\"quotes\"] == 0:\n",
    "            raise RuntimeError(\n",
    "                \"ERR#0093: no results found on Investing.com for the introduced text.\"\n",
    "            )\n",
    "\n",
    "        if total_results is None:\n",
    "            total_results = data[\"total\"][\"quotes\"]\n",
    "\n",
    "        if n_results is None:\n",
    "            n_results = data[\"total\"][\"quotes\"]\n",
    "\n",
    "        for quote in data[\"quotes\"]:\n",
    "            country, pair_type = quote[\"flag\"], quote[\"pair_type\"]\n",
    "\n",
    "            if countries is not None:\n",
    "                if quote[\"flag\"] not in countries:\n",
    "                    continue\n",
    "\n",
    "            if products is not None:\n",
    "                if quote[\"pair_type\"] not in products:\n",
    "                    continue\n",
    "\n",
    "        for quote in data[\"quotes\"]:\n",
    "\n",
    "            if countries is not None:\n",
    "                if quote[\"flag\"] not in countries:\n",
    "                    continue\n",
    "\n",
    "            if products is not None:\n",
    "                if quote[\"pair_type\"] not in products:\n",
    "                    continue\n",
    "\n",
    "            country = None\n",
    "            \n",
    "            country, pair_type = quote[\"flag\"], quote[\"pair_type\"]\n",
    "\n",
    "            search_obj = SearchObj(\n",
    "                    id_=quote[\"pairId\"],\n",
    "                    name=quote[\"name\"],\n",
    "                    symbol=quote[\"symbol\"],\n",
    "                    country=quote[\"flag\"],\n",
    "                    tag=quote[\"link\"],\n",
    "                    pair_type=pair_type,\n",
    "                    exchange=quote[\"exchange\"]\n",
    "                )\n",
    "\n",
    "            if n_results == 1 and user_limit:\n",
    "                return search_obj\n",
    "\n",
    "            if search_obj not in search_results:\n",
    "                search_results.append(search_obj)\n",
    "\n",
    "        params[\"offset\"] += 270\n",
    "\n",
    "        if (\n",
    "            len(search_results) >= n_results\n",
    "            or len(search_results) >= total_results\n",
    "            or params[\"offset\"] >= total_results\n",
    "        ):\n",
    "            break\n",
    "\n",
    "    if len(search_results) < 1:\n",
    "        raise RuntimeError(\n",
    "            \"ERR#0093: no results found on Investing.com for the introduced query.\"\n",
    "        )\n",
    "    \n",
    "    return search_results[:n_results]"
   ]
  },
  {
   "cell_type": "code",
   "execution_count": 44,
   "metadata": {},
   "outputs": [],
   "source": [
    "search_result = search_quotes(text=\"0P0001J9PO\", n_results=1)"
   ]
  },
  {
   "cell_type": "code",
   "execution_count": 45,
   "metadata": {},
   "outputs": [],
   "source": [
    "historical_data = search_result.get_historical_data(\"01/01/2020\", \"01/01/2022\")"
   ]
  },
  {
   "cell_type": "code",
   "execution_count": 47,
   "metadata": {},
   "outputs": [
    {
     "data": {
      "text/html": [
       "<div>\n",
       "<style scoped>\n",
       "    .dataframe tbody tr th:only-of-type {\n",
       "        vertical-align: middle;\n",
       "    }\n",
       "\n",
       "    .dataframe tbody tr th {\n",
       "        vertical-align: top;\n",
       "    }\n",
       "\n",
       "    .dataframe thead th {\n",
       "        text-align: right;\n",
       "    }\n",
       "</style>\n",
       "<table border=\"1\" class=\"dataframe\">\n",
       "  <thead>\n",
       "    <tr style=\"text-align: right;\">\n",
       "      <th></th>\n",
       "      <th>Date</th>\n",
       "      <th>Price</th>\n",
       "      <th>Open</th>\n",
       "      <th>High</th>\n",
       "      <th>Low</th>\n",
       "      <th>Change %</th>\n",
       "    </tr>\n",
       "  </thead>\n",
       "  <tbody>\n",
       "    <tr>\n",
       "      <th>0</th>\n",
       "      <td>Dec 31, 2021</td>\n",
       "      <td>17.588</td>\n",
       "      <td>17.588</td>\n",
       "      <td>17.588</td>\n",
       "      <td>17.588</td>\n",
       "      <td>1.68%</td>\n",
       "    </tr>\n",
       "    <tr>\n",
       "      <th>1</th>\n",
       "      <td>Dec 30, 2021</td>\n",
       "      <td>17.297</td>\n",
       "      <td>17.297</td>\n",
       "      <td>17.297</td>\n",
       "      <td>17.297</td>\n",
       "      <td>-3.64%</td>\n",
       "    </tr>\n",
       "    <tr>\n",
       "      <th>2</th>\n",
       "      <td>Dec 24, 2021</td>\n",
       "      <td>17.951</td>\n",
       "      <td>17.951</td>\n",
       "      <td>17.951</td>\n",
       "      <td>17.951</td>\n",
       "      <td>0.45%</td>\n",
       "    </tr>\n",
       "    <tr>\n",
       "      <th>3</th>\n",
       "      <td>Dec 23, 2021</td>\n",
       "      <td>17.871</td>\n",
       "      <td>17.871</td>\n",
       "      <td>17.871</td>\n",
       "      <td>17.871</td>\n",
       "      <td>-0.41%</td>\n",
       "    </tr>\n",
       "    <tr>\n",
       "      <th>4</th>\n",
       "      <td>Dec 22, 2021</td>\n",
       "      <td>17.945</td>\n",
       "      <td>17.945</td>\n",
       "      <td>17.945</td>\n",
       "      <td>17.945</td>\n",
       "      <td>1.53%</td>\n",
       "    </tr>\n",
       "    <tr>\n",
       "      <th>...</th>\n",
       "      <td>...</td>\n",
       "      <td>...</td>\n",
       "      <td>...</td>\n",
       "      <td>...</td>\n",
       "      <td>...</td>\n",
       "      <td>...</td>\n",
       "    </tr>\n",
       "    <tr>\n",
       "      <th>257</th>\n",
       "      <td>Dec 14, 2020</td>\n",
       "      <td>18.716</td>\n",
       "      <td>18.716</td>\n",
       "      <td>18.716</td>\n",
       "      <td>18.716</td>\n",
       "      <td>0.00%</td>\n",
       "    </tr>\n",
       "    <tr>\n",
       "      <th>258</th>\n",
       "      <td>Dec 11, 2020</td>\n",
       "      <td>18.716</td>\n",
       "      <td>18.716</td>\n",
       "      <td>18.716</td>\n",
       "      <td>18.716</td>\n",
       "      <td>1.38%</td>\n",
       "    </tr>\n",
       "    <tr>\n",
       "      <th>259</th>\n",
       "      <td>Dec 10, 2020</td>\n",
       "      <td>18.462</td>\n",
       "      <td>18.462</td>\n",
       "      <td>18.462</td>\n",
       "      <td>18.462</td>\n",
       "      <td>-1.83%</td>\n",
       "    </tr>\n",
       "    <tr>\n",
       "      <th>260</th>\n",
       "      <td>Dec 09, 2020</td>\n",
       "      <td>18.806</td>\n",
       "      <td>18.806</td>\n",
       "      <td>18.806</td>\n",
       "      <td>18.806</td>\n",
       "      <td>1.37%</td>\n",
       "    </tr>\n",
       "    <tr>\n",
       "      <th>261</th>\n",
       "      <td>Dec 08, 2020</td>\n",
       "      <td>18.551</td>\n",
       "      <td>18.551</td>\n",
       "      <td>18.551</td>\n",
       "      <td>18.551</td>\n",
       "      <td>1.20%</td>\n",
       "    </tr>\n",
       "  </tbody>\n",
       "</table>\n",
       "<p>262 rows × 6 columns</p>\n",
       "</div>"
      ],
      "text/plain": [
       "             Date   Price    Open    High     Low Change %\n",
       "0    Dec 31, 2021  17.588  17.588  17.588  17.588    1.68%\n",
       "1    Dec 30, 2021  17.297  17.297  17.297  17.297   -3.64%\n",
       "2    Dec 24, 2021  17.951  17.951  17.951  17.951    0.45%\n",
       "3    Dec 23, 2021  17.871  17.871  17.871  17.871   -0.41%\n",
       "4    Dec 22, 2021  17.945  17.945  17.945  17.945    1.53%\n",
       "..            ...     ...     ...     ...     ...      ...\n",
       "257  Dec 14, 2020  18.716  18.716  18.716  18.716    0.00%\n",
       "258  Dec 11, 2020  18.716  18.716  18.716  18.716    1.38%\n",
       "259  Dec 10, 2020  18.462  18.462  18.462  18.462   -1.83%\n",
       "260  Dec 09, 2020  18.806  18.806  18.806  18.806    1.37%\n",
       "261  Dec 08, 2020  18.551  18.551  18.551  18.551    1.20%\n",
       "\n",
       "[262 rows x 6 columns]"
      ]
     },
     "execution_count": 47,
     "metadata": {},
     "output_type": "execute_result"
    }
   ],
   "source": [
    "historical_data"
   ]
  },
  {
   "cell_type": "code",
   "execution_count": 27,
   "metadata": {},
   "outputs": [
    {
     "data": {
      "text/plain": [
       "[{'Apple Inc': {'symbol': 'AAPL', 'country': 'USA', 'type': 'equities'}},\n",
       " {'AA Plus Tradelink Ltd': {'symbol': 'AAPL',\n",
       "   'country': 'India',\n",
       "   'type': 'equities'}},\n",
       " {'Apple Inc': {'symbol': 'AAPL', 'country': 'Germany', 'type': 'equities'}},\n",
       " {'Apple Inc DRC': {'symbol': 'AAPL',\n",
       "   'country': 'Argentina',\n",
       "   'type': 'equities'}},\n",
       " {'Apple Inc CDR': {'symbol': 'AAPL',\n",
       "   'country': 'Canada',\n",
       "   'type': 'equities'}},\n",
       " {'Apple Inc': {'symbol': 'AAPL', 'country': 'Peru', 'type': 'equities'}},\n",
       " {'Apple Inc': {'symbol': 'AAPL', 'country': 'Ukraine', 'type': 'equities'}},\n",
       " {'Apple Inc': {'symbol': 'AAPL', 'country': 'Colombia', 'type': 'equities'}},\n",
       " {'Apple Inc': {'symbol': 'AAPL', 'country': 'Mexico', 'type': 'equities'}},\n",
       " {'Apple Inc': {'symbol': 'AAPL', 'country': 'Chile', 'type': 'equities'}}]"
      ]
     },
     "execution_count": 27,
     "metadata": {},
     "output_type": "execute_result"
    }
   ],
   "source": [
    "search_results = search_quotes(text=\"AAPL\", n_results=10)\n",
    "my_list = list()\n",
    "for result in search_results:\n",
    "    data = {\n",
    "        result.name:\n",
    "        {\n",
    "            \"symbol\": result.symbol,\n",
    "            \"country\": result.country,\n",
    "            \"type\": result.pair_type\n",
    "        }\n",
    "    }\n",
    "    my_list.append(data)\n",
    "my_list"
   ]
  },
  {
   "cell_type": "code",
   "execution_count": 34,
   "metadata": {},
   "outputs": [
    {
     "name": "stdout",
     "output_type": "stream",
     "text": [
      "{'id_': 6408, 'name': 'Apple Inc', 'symbol': 'AAPL', 'country': 'USA', 'tag': '/equities/apple-computer-inc', 'pair_type': 'equities', 'exchange': 'NASDAQ'}\n",
      "{'id_': 1179023, 'name': 'AA Plus Tradelink Ltd', 'symbol': 'AAPL', 'country': 'India', 'tag': '/equities/aa-plus-tradelink', 'pair_type': 'equities', 'exchange': 'BSE'}\n",
      "{'id_': 963008, 'name': 'Apple Inc', 'symbol': 'AAPL', 'country': 'Germany', 'tag': '/equities/apple-computer-inc?cid=963008', 'pair_type': 'equities', 'exchange': 'Xetra'}\n",
      "{'id_': 30128, 'name': 'Apple Inc DRC', 'symbol': 'AAPL', 'country': 'Argentina', 'tag': '/equities/apple-inc.', 'pair_type': 'equities', 'exchange': 'Buenos Aires'}\n",
      "{'id_': 1178723, 'name': 'Apple Inc CDR', 'symbol': 'AAPL', 'country': 'Canada', 'tag': '/equities/apple-drc', 'pair_type': 'equities', 'exchange': 'NEO'}\n",
      "{'id_': 1162254, 'name': 'Apple Inc', 'symbol': 'AAPL', 'country': 'Peru', 'tag': '/equities/apple-computer-inc?cid=1162254', 'pair_type': 'equities', 'exchange': 'Lima'}\n",
      "{'id_': 1184347, 'name': 'Apple Inc', 'symbol': 'AAPL', 'country': 'Ukraine', 'tag': '/equities/apple-computer-inc?cid=1184347', 'pair_type': 'equities', 'exchange': 'Ukraine'}\n",
      "{'id_': 1184238, 'name': 'Apple Inc', 'symbol': 'AAPL', 'country': 'Colombia', 'tag': '/equities/apple-computer-inc?cid=1184238', 'pair_type': 'equities', 'exchange': 'Colombia'}\n",
      "{'id_': 1184752, 'name': 'Apple Inc', 'symbol': 'AAPL', 'country': 'Mexico', 'tag': '/equities/apple-computer-inc?cid=1184752', 'pair_type': 'equities', 'exchange': 'BIVA'}\n",
      "{'id_': 1161672, 'name': 'Apple Inc', 'symbol': 'AAPL', 'country': 'Chile', 'tag': '/equities/apple-computer-inc?cid=1161672', 'pair_type': 'equities', 'exchange': 'Santiago'}\n"
     ]
    }
   ],
   "source": [
    "for result in search_results:\n",
    "    print(vars(result))"
   ]
  },
  {
   "cell_type": "markdown",
   "metadata": {},
   "source": [
    "<h1>Get Data with investpy</h1>"
   ]
  },
  {
   "cell_type": "code",
   "execution_count": null,
   "metadata": {},
   "outputs": [],
   "source": [
    "!pip install --upgrade git+https://github.com/alvarobartt/investpy.git@master"
   ]
  },
  {
   "cell_type": "code",
   "execution_count": null,
   "metadata": {},
   "outputs": [],
   "source": [
    "search_result = inv.search_quotes(text='0P00018JE1', products=['funds'],n_results=1)\n",
    "# search_result.retrieve_information()\n",
    "search_result_hist_data_df = search_result.retrieve_historical_data('20/09/2020', '15/02/2022')"
   ]
  },
  {
   "cell_type": "code",
   "execution_count": null,
   "metadata": {},
   "outputs": [],
   "source": [
    "df = search_result_hist_data_df"
   ]
  },
  {
   "cell_type": "markdown",
   "metadata": {},
   "source": [
    "<h1>Save data to database</h1>"
   ]
  },
  {
   "cell_type": "code",
   "execution_count": 43,
   "metadata": {},
   "outputs": [
    {
     "data": {
      "text/plain": [
       "[             Date   Price    Open    High     Low Change %\n",
       " 0    Dec 31, 2021  17.588  17.588  17.588  17.588    1.68%\n",
       " 1    Dec 30, 2021  17.297  17.297  17.297  17.297   -3.64%\n",
       " 2    Dec 24, 2021  17.951  17.951  17.951  17.951    0.45%\n",
       " 3    Dec 23, 2021  17.871  17.871  17.871  17.871   -0.41%\n",
       " 4    Dec 22, 2021  17.945  17.945  17.945  17.945    1.53%\n",
       " ..            ...     ...     ...     ...     ...      ...\n",
       " 257  Dec 14, 2020  18.716  18.716  18.716  18.716    0.00%\n",
       " 258  Dec 11, 2020  18.716  18.716  18.716  18.716    1.38%\n",
       " 259  Dec 10, 2020  18.462  18.462  18.462  18.462   -1.83%\n",
       " 260  Dec 09, 2020  18.806  18.806  18.806  18.806    1.37%\n",
       " 261  Dec 08, 2020  18.551  18.551  18.551  18.551    1.20%\n",
       " \n",
       " [262 rows x 6 columns]]"
      ]
     },
     "execution_count": 43,
     "metadata": {},
     "output_type": "execute_result"
    }
   ],
   "source": [
    "historical_data"
   ]
  },
  {
   "cell_type": "code",
   "execution_count": 70,
   "metadata": {},
   "outputs": [],
   "source": [
    "df['Date'] = pd.to_datetime(df['Date'])"
   ]
  },
  {
   "cell_type": "code",
   "execution_count": 71,
   "metadata": {},
   "outputs": [
    {
     "data": {
      "text/html": [
       "<div>\n",
       "<style scoped>\n",
       "    .dataframe tbody tr th:only-of-type {\n",
       "        vertical-align: middle;\n",
       "    }\n",
       "\n",
       "    .dataframe tbody tr th {\n",
       "        vertical-align: top;\n",
       "    }\n",
       "\n",
       "    .dataframe thead th {\n",
       "        text-align: right;\n",
       "    }\n",
       "</style>\n",
       "<table border=\"1\" class=\"dataframe\">\n",
       "  <thead>\n",
       "    <tr style=\"text-align: right;\">\n",
       "      <th></th>\n",
       "      <th>Date</th>\n",
       "      <th>Price</th>\n",
       "      <th>Open</th>\n",
       "      <th>High</th>\n",
       "      <th>Low</th>\n",
       "      <th>Change %</th>\n",
       "    </tr>\n",
       "  </thead>\n",
       "  <tbody>\n",
       "    <tr>\n",
       "      <th>0</th>\n",
       "      <td>2021-12-31</td>\n",
       "      <td>17.588</td>\n",
       "      <td>17.588</td>\n",
       "      <td>17.588</td>\n",
       "      <td>17.588</td>\n",
       "      <td>1.68%</td>\n",
       "    </tr>\n",
       "    <tr>\n",
       "      <th>1</th>\n",
       "      <td>2021-12-30</td>\n",
       "      <td>17.297</td>\n",
       "      <td>17.297</td>\n",
       "      <td>17.297</td>\n",
       "      <td>17.297</td>\n",
       "      <td>-3.64%</td>\n",
       "    </tr>\n",
       "    <tr>\n",
       "      <th>2</th>\n",
       "      <td>2021-12-24</td>\n",
       "      <td>17.951</td>\n",
       "      <td>17.951</td>\n",
       "      <td>17.951</td>\n",
       "      <td>17.951</td>\n",
       "      <td>0.45%</td>\n",
       "    </tr>\n",
       "    <tr>\n",
       "      <th>3</th>\n",
       "      <td>2021-12-23</td>\n",
       "      <td>17.871</td>\n",
       "      <td>17.871</td>\n",
       "      <td>17.871</td>\n",
       "      <td>17.871</td>\n",
       "      <td>-0.41%</td>\n",
       "    </tr>\n",
       "    <tr>\n",
       "      <th>4</th>\n",
       "      <td>2021-12-22</td>\n",
       "      <td>17.945</td>\n",
       "      <td>17.945</td>\n",
       "      <td>17.945</td>\n",
       "      <td>17.945</td>\n",
       "      <td>1.53%</td>\n",
       "    </tr>\n",
       "    <tr>\n",
       "      <th>...</th>\n",
       "      <td>...</td>\n",
       "      <td>...</td>\n",
       "      <td>...</td>\n",
       "      <td>...</td>\n",
       "      <td>...</td>\n",
       "      <td>...</td>\n",
       "    </tr>\n",
       "    <tr>\n",
       "      <th>257</th>\n",
       "      <td>2020-12-14</td>\n",
       "      <td>18.716</td>\n",
       "      <td>18.716</td>\n",
       "      <td>18.716</td>\n",
       "      <td>18.716</td>\n",
       "      <td>0.00%</td>\n",
       "    </tr>\n",
       "    <tr>\n",
       "      <th>258</th>\n",
       "      <td>2020-12-11</td>\n",
       "      <td>18.716</td>\n",
       "      <td>18.716</td>\n",
       "      <td>18.716</td>\n",
       "      <td>18.716</td>\n",
       "      <td>1.38%</td>\n",
       "    </tr>\n",
       "    <tr>\n",
       "      <th>259</th>\n",
       "      <td>2020-12-10</td>\n",
       "      <td>18.462</td>\n",
       "      <td>18.462</td>\n",
       "      <td>18.462</td>\n",
       "      <td>18.462</td>\n",
       "      <td>-1.83%</td>\n",
       "    </tr>\n",
       "    <tr>\n",
       "      <th>260</th>\n",
       "      <td>2020-12-09</td>\n",
       "      <td>18.806</td>\n",
       "      <td>18.806</td>\n",
       "      <td>18.806</td>\n",
       "      <td>18.806</td>\n",
       "      <td>1.37%</td>\n",
       "    </tr>\n",
       "    <tr>\n",
       "      <th>261</th>\n",
       "      <td>2020-12-08</td>\n",
       "      <td>18.551</td>\n",
       "      <td>18.551</td>\n",
       "      <td>18.551</td>\n",
       "      <td>18.551</td>\n",
       "      <td>1.20%</td>\n",
       "    </tr>\n",
       "  </tbody>\n",
       "</table>\n",
       "<p>262 rows × 6 columns</p>\n",
       "</div>"
      ],
      "text/plain": [
       "          Date   Price    Open    High     Low Change %\n",
       "0   2021-12-31  17.588  17.588  17.588  17.588    1.68%\n",
       "1   2021-12-30  17.297  17.297  17.297  17.297   -3.64%\n",
       "2   2021-12-24  17.951  17.951  17.951  17.951    0.45%\n",
       "3   2021-12-23  17.871  17.871  17.871  17.871   -0.41%\n",
       "4   2021-12-22  17.945  17.945  17.945  17.945    1.53%\n",
       "..         ...     ...     ...     ...     ...      ...\n",
       "257 2020-12-14  18.716  18.716  18.716  18.716    0.00%\n",
       "258 2020-12-11  18.716  18.716  18.716  18.716    1.38%\n",
       "259 2020-12-10  18.462  18.462  18.462  18.462   -1.83%\n",
       "260 2020-12-09  18.806  18.806  18.806  18.806    1.37%\n",
       "261 2020-12-08  18.551  18.551  18.551  18.551    1.20%\n",
       "\n",
       "[262 rows x 6 columns]"
      ]
     },
     "execution_count": 71,
     "metadata": {},
     "output_type": "execute_result"
    }
   ],
   "source": [
    "historical_data"
   ]
  },
  {
   "cell_type": "markdown",
   "metadata": {},
   "source": [
    "<h1>Analysis</h1>"
   ]
  },
  {
   "cell_type": "code",
   "execution_count": 48,
   "metadata": {},
   "outputs": [],
   "source": [
    "df = historical_data"
   ]
  },
  {
   "cell_type": "code",
   "execution_count": 57,
   "metadata": {},
   "outputs": [],
   "source": [
    "\"\"\"period = 5\n",
    "roll_max = df['Price'].rolling(period).max()\n",
    "daily_drawdown = df['Price']/roll_max - 1\n",
    "maximum_drawdown = daily_drawdown.rolling(window=period).min()\"\"\""
   ]
  },
  {
   "cell_type": "code",
   "execution_count": 76,
   "metadata": {},
   "outputs": [],
   "source": [
    "period = 2\n",
    "max = df['Price'].rolling(window=period).max()\n",
    "min = df['Price'].rolling(window=period).min()\n",
    "daily_max_dd = (min-max)/max"
   ]
  },
  {
   "cell_type": "code",
   "execution_count": 79,
   "metadata": {},
   "outputs": [],
   "source": [
    "period = 6\n",
    "max = df['Price'].rolling(window=period).max()\n",
    "min = df['Price'].rolling(window=period).min()\n",
    "weekly_max_dd = (min-max)/max"
   ]
  },
  {
   "cell_type": "code",
   "execution_count": 85,
   "metadata": {},
   "outputs": [
    {
     "data": {
      "text/plain": [
       "-0.059248120300751814"
      ]
     },
     "execution_count": 85,
     "metadata": {},
     "output_type": "execute_result"
    }
   ],
   "source": [
    "daily_max_dd.min()"
   ]
  },
  {
   "cell_type": "code",
   "execution_count": 83,
   "metadata": {},
   "outputs": [
    {
     "data": {
      "text/plain": [
       "0.010201540725619563"
      ]
     },
     "execution_count": 83,
     "metadata": {},
     "output_type": "execute_result"
    }
   ],
   "source": [
    "daily_max_dd.std()"
   ]
  },
  {
   "cell_type": "code",
   "execution_count": 86,
   "metadata": {},
   "outputs": [
    {
     "data": {
      "text/plain": [
       "-0.13262951141664606"
      ]
     },
     "execution_count": 86,
     "metadata": {},
     "output_type": "execute_result"
    }
   ],
   "source": [
    "weekly_max_dd.min()"
   ]
  },
  {
   "cell_type": "code",
   "execution_count": 82,
   "metadata": {},
   "outputs": [
    {
     "data": {
      "text/plain": [
       "0.02120521918833805"
      ]
     },
     "execution_count": 82,
     "metadata": {},
     "output_type": "execute_result"
    }
   ],
   "source": [
    "weekly_max_dd.std()"
   ]
  },
  {
   "cell_type": "code",
   "execution_count": 93,
   "metadata": {},
   "outputs": [
    {
     "data": {
      "application/vnd.plotly.v1+json": {
       "config": {
        "plotlyServerURL": "https://plot.ly"
       },
       "data": [
        {
         "line": {
          "color": "green",
          "width": 1
         },
         "type": "scatter",
         "x": [
          "2021-12-31T00:00:00",
          "2021-12-30T00:00:00",
          "2021-12-24T00:00:00",
          "2021-12-23T00:00:00",
          "2021-12-22T00:00:00",
          "2021-12-21T00:00:00",
          "2021-12-20T00:00:00",
          "2021-12-17T00:00:00",
          "2021-12-16T00:00:00",
          "2021-12-15T00:00:00",
          "2021-12-14T00:00:00",
          "2021-12-13T00:00:00",
          "2021-12-10T00:00:00",
          "2021-12-09T00:00:00",
          "2021-12-08T00:00:00",
          "2021-12-07T00:00:00",
          "2021-12-06T00:00:00",
          "2021-12-03T00:00:00",
          "2021-12-02T00:00:00",
          "2021-12-01T00:00:00",
          "2021-11-30T00:00:00",
          "2021-11-29T00:00:00",
          "2021-11-26T00:00:00",
          "2021-11-25T00:00:00",
          "2021-11-24T00:00:00",
          "2021-11-23T00:00:00",
          "2021-11-22T00:00:00",
          "2021-11-19T00:00:00",
          "2021-11-18T00:00:00",
          "2021-11-17T00:00:00",
          "2021-11-16T00:00:00",
          "2021-11-15T00:00:00",
          "2021-11-12T00:00:00",
          "2021-11-11T00:00:00",
          "2021-11-10T00:00:00",
          "2021-11-09T00:00:00",
          "2021-11-08T00:00:00",
          "2021-11-05T00:00:00",
          "2021-11-04T00:00:00",
          "2021-11-03T00:00:00",
          "2021-11-02T00:00:00",
          "2021-11-01T00:00:00",
          "2021-10-29T00:00:00",
          "2021-10-28T00:00:00",
          "2021-10-27T00:00:00",
          "2021-10-26T00:00:00",
          "2021-10-22T00:00:00",
          "2021-10-21T00:00:00",
          "2021-10-20T00:00:00",
          "2021-10-19T00:00:00",
          "2021-10-18T00:00:00",
          "2021-10-15T00:00:00",
          "2021-10-14T00:00:00",
          "2021-10-13T00:00:00",
          "2021-10-12T00:00:00",
          "2021-10-11T00:00:00",
          "2021-10-08T00:00:00",
          "2021-10-07T00:00:00",
          "2021-10-06T00:00:00",
          "2021-10-05T00:00:00",
          "2021-10-04T00:00:00",
          "2021-10-01T00:00:00",
          "2021-09-30T00:00:00",
          "2021-09-29T00:00:00",
          "2021-09-28T00:00:00",
          "2021-09-27T00:00:00",
          "2021-09-24T00:00:00",
          "2021-09-23T00:00:00",
          "2021-09-22T00:00:00",
          "2021-09-21T00:00:00",
          "2021-09-20T00:00:00",
          "2021-09-17T00:00:00",
          "2021-09-16T00:00:00",
          "2021-09-15T00:00:00",
          "2021-09-14T00:00:00",
          "2021-09-13T00:00:00",
          "2021-09-10T00:00:00",
          "2021-09-09T00:00:00",
          "2021-09-08T00:00:00",
          "2021-09-07T00:00:00",
          "2021-09-06T00:00:00",
          "2021-09-03T00:00:00",
          "2021-09-02T00:00:00",
          "2021-09-01T00:00:00",
          "2021-08-31T00:00:00",
          "2021-08-30T00:00:00",
          "2021-08-27T00:00:00",
          "2021-08-26T00:00:00",
          "2021-08-25T00:00:00",
          "2021-08-24T00:00:00",
          "2021-08-23T00:00:00",
          "2021-08-20T00:00:00",
          "2021-08-19T00:00:00",
          "2021-08-18T00:00:00",
          "2021-08-17T00:00:00",
          "2021-08-16T00:00:00",
          "2021-08-13T00:00:00",
          "2021-08-12T00:00:00",
          "2021-08-11T00:00:00",
          "2021-08-10T00:00:00",
          "2021-08-09T00:00:00",
          "2021-08-06T00:00:00",
          "2021-08-05T00:00:00",
          "2021-08-04T00:00:00",
          "2021-08-03T00:00:00",
          "2021-07-30T00:00:00",
          "2021-07-29T00:00:00",
          "2021-07-28T00:00:00",
          "2021-07-27T00:00:00",
          "2021-07-26T00:00:00",
          "2021-07-23T00:00:00",
          "2021-07-22T00:00:00",
          "2021-07-21T00:00:00",
          "2021-07-20T00:00:00",
          "2021-07-19T00:00:00",
          "2021-07-16T00:00:00",
          "2021-07-15T00:00:00",
          "2021-07-14T00:00:00",
          "2021-07-13T00:00:00",
          "2021-07-12T00:00:00",
          "2021-07-09T00:00:00",
          "2021-07-08T00:00:00",
          "2021-07-07T00:00:00",
          "2021-07-06T00:00:00",
          "2021-07-05T00:00:00",
          "2021-07-02T00:00:00",
          "2021-07-01T00:00:00",
          "2021-06-30T00:00:00",
          "2021-06-29T00:00:00",
          "2021-06-28T00:00:00",
          "2021-06-25T00:00:00",
          "2021-06-24T00:00:00",
          "2021-06-23T00:00:00",
          "2021-06-22T00:00:00",
          "2021-06-21T00:00:00",
          "2021-06-18T00:00:00",
          "2021-06-17T00:00:00",
          "2021-06-16T00:00:00",
          "2021-06-15T00:00:00",
          "2021-06-14T00:00:00",
          "2021-06-11T00:00:00",
          "2021-06-10T00:00:00",
          "2021-06-09T00:00:00",
          "2021-06-08T00:00:00",
          "2021-06-04T00:00:00",
          "2021-06-03T00:00:00",
          "2021-06-02T00:00:00",
          "2021-06-01T00:00:00",
          "2021-05-31T00:00:00",
          "2021-05-28T00:00:00",
          "2021-05-27T00:00:00",
          "2021-05-26T00:00:00",
          "2021-05-25T00:00:00",
          "2021-05-24T00:00:00",
          "2021-05-21T00:00:00",
          "2021-05-20T00:00:00",
          "2021-05-19T00:00:00",
          "2021-05-18T00:00:00",
          "2021-05-17T00:00:00",
          "2021-05-14T00:00:00",
          "2021-05-13T00:00:00",
          "2021-05-12T00:00:00",
          "2021-05-11T00:00:00",
          "2021-05-10T00:00:00",
          "2021-05-07T00:00:00",
          "2021-05-06T00:00:00",
          "2021-05-05T00:00:00",
          "2021-05-04T00:00:00",
          "2021-04-30T00:00:00",
          "2021-04-29T00:00:00",
          "2021-04-28T00:00:00",
          "2021-04-27T00:00:00",
          "2021-04-26T00:00:00",
          "2021-04-23T00:00:00",
          "2021-04-22T00:00:00",
          "2021-04-21T00:00:00",
          "2021-04-20T00:00:00",
          "2021-04-15T00:00:00",
          "2021-04-14T00:00:00",
          "2021-04-13T00:00:00",
          "2021-04-12T00:00:00",
          "2021-04-08T00:00:00",
          "2021-04-07T00:00:00",
          "2021-04-06T00:00:00",
          "2021-04-01T00:00:00",
          "2021-03-31T00:00:00",
          "2021-03-30T00:00:00",
          "2021-03-29T00:00:00",
          "2021-03-26T00:00:00",
          "2021-03-25T00:00:00",
          "2021-03-24T00:00:00",
          "2021-03-23T00:00:00",
          "2021-03-22T00:00:00",
          "2021-03-19T00:00:00",
          "2021-03-18T00:00:00",
          "2021-03-16T00:00:00",
          "2021-03-15T00:00:00",
          "2021-03-12T00:00:00",
          "2021-03-11T00:00:00",
          "2021-03-10T00:00:00",
          "2021-03-09T00:00:00",
          "2021-03-08T00:00:00",
          "2021-03-05T00:00:00",
          "2021-03-04T00:00:00",
          "2021-03-03T00:00:00",
          "2021-03-02T00:00:00",
          "2021-03-01T00:00:00",
          "2021-02-26T00:00:00",
          "2021-02-25T00:00:00",
          "2021-02-24T00:00:00",
          "2021-02-23T00:00:00",
          "2021-02-22T00:00:00",
          "2021-02-19T00:00:00",
          "2021-02-18T00:00:00",
          "2021-02-17T00:00:00",
          "2021-02-16T00:00:00",
          "2021-02-15T00:00:00",
          "2021-02-12T00:00:00",
          "2021-02-11T00:00:00",
          "2021-02-10T00:00:00",
          "2021-02-09T00:00:00",
          "2021-02-08T00:00:00",
          "2021-02-05T00:00:00",
          "2021-02-04T00:00:00",
          "2021-02-03T00:00:00",
          "2021-02-02T00:00:00",
          "2021-02-01T00:00:00",
          "2021-01-29T00:00:00",
          "2021-01-28T00:00:00",
          "2021-01-27T00:00:00",
          "2021-01-26T00:00:00",
          "2021-01-25T00:00:00",
          "2021-01-22T00:00:00",
          "2021-01-21T00:00:00",
          "2021-01-20T00:00:00",
          "2021-01-19T00:00:00",
          "2021-01-18T00:00:00",
          "2021-01-15T00:00:00",
          "2021-01-14T00:00:00",
          "2021-01-13T00:00:00",
          "2021-01-12T00:00:00",
          "2021-01-11T00:00:00",
          "2021-01-08T00:00:00",
          "2021-01-07T00:00:00",
          "2021-01-06T00:00:00",
          "2021-01-05T00:00:00",
          "2021-01-04T00:00:00",
          "2020-12-31T00:00:00",
          "2020-12-30T00:00:00",
          "2020-12-24T00:00:00",
          "2020-12-23T00:00:00",
          "2020-12-22T00:00:00",
          "2020-12-21T00:00:00",
          "2020-12-18T00:00:00",
          "2020-12-17T00:00:00",
          "2020-12-16T00:00:00",
          "2020-12-15T00:00:00",
          "2020-12-14T00:00:00",
          "2020-12-11T00:00:00",
          "2020-12-10T00:00:00",
          "2020-12-09T00:00:00",
          "2020-12-08T00:00:00"
         ],
         "y": [
          null,
          -0.01654537184443941,
          -0.03643251072363656,
          -0.004456576235307328,
          -0.004123711340206276,
          -0.015045973808860382,
          -0.0024893917963225167,
          -0.0220066927570757,
          -0.027138343489054483,
          -0.02138343489054397,
          -0.013816238344325795,
          -0.00278599044803272,
          -0.005725623582766388,
          -0.036434150871251327,
          -0.014966952531818288,
          -0.03804136860200742,
          -0.016141119501931235,
          -0.0397231756034434,
          -0.0031508467900748854,
          -0.03915613644991601,
          -0.004534902553582013,
          -0.007666144792960075,
          -0.020836733583591706,
          -0.011696227554774445,
          -0.01790126846411493,
          -0.015034695451040846,
          -0.029191616766467032,
          -0.005582433941198385,
          -0.013789848993288494,
          -0.0004192872117399958,
          -0.00843815513626823,
          -0.014121938509640478,
          -0.004168837936425317,
          -0.00005232862375707323,
          -0.017835115131578833,
          -0.013287351658383226,
          -0.000709507399148558,
          -0.02855454903505326,
          -0.006456662101349927,
          -0.008070827626687496,
          -0.01060210069530055,
          -0.015899122807017496,
          -0.00694060252476981,
          -0.007946486948649484,
          -0.018510225406777124,
          -0.011460895228725874,
          -0.007722577471716677,
          -0.010409953898775458,
          0,
          -0.010970295045834853,
          -0.0016207455429497583,
          -0.006201159566423045,
          -0.011646080161331063,
          -0.011120179555192816,
          -0.012999071494893166,
          -0.006902994757876116,
          -0.010832734366978234,
          -0.01345107300544206,
          -0.009002914238134981,
          -0.010136188793013841,
          -0.020568170247428973,
          -0.01990918616835492,
          -0.003381570441096096,
          -0.01048125184529069,
          -0.030901287553648054,
          -0.01577020557589421,
          -0.018880088414072578,
          -0.0023024498065942487,
          -0.00738484261054187,
          -0.0065563098670139396,
          -0.013938247103890853,
          -0.009780174580686378,
          -0.013984735615374111,
          -0.0054395427096299315,
          -0.0017027151403589062,
          -0.020597647270924446,
          -0.006804243699359751,
          -0.008594834146559836,
          -0.017827841589427514,
          -0.00496696084083544,
          -0.0031544339790295878,
          -0.0041318642260529575,
          -0.015569930849877324,
          -0.01382216985407413,
          -0.006433527870961839,
          -0.007076453448036571,
          -0.009036705794671095,
          -0.008805851931230492,
          -0.0024169184290030025,
          -0.004276086451313144,
          -0.02810063949960308,
          -0.019211373132894775,
          -0.020481580966999216,
          -0.012551508549235096,
          -0.013546156396532838,
          -0.015364977307110405,
          -0.006994976761654259,
          -0.00356790760997122,
          -0.02860411899313501,
          -0.025901653961036043,
          -0.027729481521109173,
          -0.0113780598368086,
          -0.00485040797824113,
          -0.01325559149091242,
          -0.014587757363124317,
          -0.0008900965051999603,
          -0.007908080197236737,
          -0.025352374749965025,
          -0.008330177962892767,
          -0.028150873965041324,
          -0.002069917203311783,
          -0.002673427056925551,
          -0.011461847760780196,
          -0.01402590116414983,
          -0.00540566171937964,
          -0.016734207389749827,
          -0.00038789759503486806,
          -0.02335496707565503,
          -0.009478672985781905,
          -0.005042252205985366,
          -0.007143190625146003,
          -0.006254114549045384,
          -0.013352630841776056,
          -0.00793687847238441,
          -0.001409840688002309,
          -0.0034306123408055075,
          -0.009343174810800678,
          -0.006682134570765749,
          -0.002598607888631134,
          -0.00935144691541828,
          -0.0013619499365988782,
          -0.006583897667419139,
          -0.00028395646000947596,
          -0.003596781826786584,
          -0.012824166429182084,
          -0.0030220175564830616,
          -0.01942725572024757,
          -0.006270963978416281,
          -0.011674834246180385,
          -0.001201114634380637,
          -0.008947039299629608,
          -0.013687327088288114,
          -0.009743614979577795,
          -0.006509963723102928,
          -0.041066426570628325,
          -0.0067868614651331585,
          -0.0023313646254273213,
          -0.007012839684422174,
          -0.003970504821327372,
          -0.009577552288258373,
          -0.013067795724217238,
          -0.004184100418410075,
          -0.006435485586639649,
          -0.015042021305069448,
          -0.0009230602161048494,
          -0.03214421458435154,
          -0.0031318158939657144,
          -0.004306246854202882,
          -0.0029206919793304652,
          -0.02670121676430826,
          -0.0032881453706375633,
          -0.029177867383512586,
          -0.003849372384937186,
          -0.03954348175534478,
          -0.006590580292557526,
          -0.036783042394015066,
          -0.012416623909697144,
          -0.02613301354119838,
          -0.016705154031346724,
          -0.017522687777563214,
          -0.002317049623479524,
          -0.005246185686095286,
          -0.01641237907301348,
          -0.007731454296339854,
          -0.006854719400335307,
          -0.03307016237151797,
          -0.00956207720868737,
          -0.015207771730837852,
          -0.0016527218262576196,
          -0.038230729436109535,
          -0.010011182704084288,
          -0.007827892859044595,
          -0.013762439127672985,
          -0.010004234596654673,
          -0.008287440517564089,
          -0.04092085400043114,
          -0.011411546461296471,
          -0.01907630522088366,
          -0.0020040080160319425,
          -0.0005566688933421293,
          -0.02804244261585105,
          -0.024967009765109474,
          -0.010662443916600777,
          -0.01195112842127729,
          -0.027210169669590833,
          -0.0002100730003676979,
          -0.016805840029410234,
          -0.011406241748957125,
          -0.03099751808628609,
          -0.010899182561308056,
          -0.026776859504132073,
          -0.015713808090939484,
          -0.0028892099122124456,
          -0.04102728047740833,
          -0.059248120300751814,
          -0.020378099680824904,
          -0.0021605696047138196,
          -0.015747256532650966,
          -0.030254545454545395,
          -0.0026666666666666527,
          -0.01771644143068615,
          -0.0419964316757401,
          -0.010521981792396743,
          -0.018692436822285698,
          -0.006759497093416186,
          -0.026497038824303695,
          -0.008159684141259045,
          -0.014242115971515888,
          -0.003948490151209109,
          -0.0018018829677013692,
          -0.0015770027935478122,
          -0.020005406866720695,
          -0.010988505747126473,
          -0.012133327134954174,
          -0.00018823529411770993,
          -0.016003012331733027,
          -0.0017219936860230468,
          -0.013224724484906554,
          -0.003146328476692857,
          -0.018295000950389734,
          -0.006561865646981039,
          -0.014020676957937997,
          -0.011778224648089567,
          -0.0007267441860465392,
          -0.008484848484848519,
          -0.0036674816625916523,
          -0.0037791411042945636,
          -0.0006404571879001934,
          -0.010549667241804221,
          -0.010114094962881915,
          -0.01026776726394187,
          -0.0010679414157852315,
          -0.006923586010283522,
          -0.030450607474240075,
          -0.004705757944271064,
          -0.0016468338291543963,
          -0.01838600156698879,
          -0.0007834943849569376,
          -0.004234187140616807,
          -0.019911504424778785,
          -0.003035604033751855,
          -0.006915415182948875,
          -0.01382320843943243,
          -0.0024181254271145127,
          -0.020922041738947572,
          -0.007619352088661588,
          -0.0029219571800456734,
          -0.0056845348775433945,
          0,
          -0.013571275913656835,
          -0.018292034457088227,
          -0.013559502286504443
         ]
        },
        {
         "line": {
          "color": "red",
          "width": 1
         },
         "type": "scatter",
         "x": [
          "2021-12-31T00:00:00",
          "2021-12-30T00:00:00",
          "2021-12-24T00:00:00",
          "2021-12-23T00:00:00",
          "2021-12-22T00:00:00",
          "2021-12-21T00:00:00",
          "2021-12-20T00:00:00",
          "2021-12-17T00:00:00",
          "2021-12-16T00:00:00",
          "2021-12-15T00:00:00",
          "2021-12-14T00:00:00",
          "2021-12-13T00:00:00",
          "2021-12-10T00:00:00",
          "2021-12-09T00:00:00",
          "2021-12-08T00:00:00",
          "2021-12-07T00:00:00",
          "2021-12-06T00:00:00",
          "2021-12-03T00:00:00",
          "2021-12-02T00:00:00",
          "2021-12-01T00:00:00",
          "2021-11-30T00:00:00",
          "2021-11-29T00:00:00",
          "2021-11-26T00:00:00",
          "2021-11-25T00:00:00",
          "2021-11-24T00:00:00",
          "2021-11-23T00:00:00",
          "2021-11-22T00:00:00",
          "2021-11-19T00:00:00",
          "2021-11-18T00:00:00",
          "2021-11-17T00:00:00",
          "2021-11-16T00:00:00",
          "2021-11-15T00:00:00",
          "2021-11-12T00:00:00",
          "2021-11-11T00:00:00",
          "2021-11-10T00:00:00",
          "2021-11-09T00:00:00",
          "2021-11-08T00:00:00",
          "2021-11-05T00:00:00",
          "2021-11-04T00:00:00",
          "2021-11-03T00:00:00",
          "2021-11-02T00:00:00",
          "2021-11-01T00:00:00",
          "2021-10-29T00:00:00",
          "2021-10-28T00:00:00",
          "2021-10-27T00:00:00",
          "2021-10-26T00:00:00",
          "2021-10-22T00:00:00",
          "2021-10-21T00:00:00",
          "2021-10-20T00:00:00",
          "2021-10-19T00:00:00",
          "2021-10-18T00:00:00",
          "2021-10-15T00:00:00",
          "2021-10-14T00:00:00",
          "2021-10-13T00:00:00",
          "2021-10-12T00:00:00",
          "2021-10-11T00:00:00",
          "2021-10-08T00:00:00",
          "2021-10-07T00:00:00",
          "2021-10-06T00:00:00",
          "2021-10-05T00:00:00",
          "2021-10-04T00:00:00",
          "2021-10-01T00:00:00",
          "2021-09-30T00:00:00",
          "2021-09-29T00:00:00",
          "2021-09-28T00:00:00",
          "2021-09-27T00:00:00",
          "2021-09-24T00:00:00",
          "2021-09-23T00:00:00",
          "2021-09-22T00:00:00",
          "2021-09-21T00:00:00",
          "2021-09-20T00:00:00",
          "2021-09-17T00:00:00",
          "2021-09-16T00:00:00",
          "2021-09-15T00:00:00",
          "2021-09-14T00:00:00",
          "2021-09-13T00:00:00",
          "2021-09-10T00:00:00",
          "2021-09-09T00:00:00",
          "2021-09-08T00:00:00",
          "2021-09-07T00:00:00",
          "2021-09-06T00:00:00",
          "2021-09-03T00:00:00",
          "2021-09-02T00:00:00",
          "2021-09-01T00:00:00",
          "2021-08-31T00:00:00",
          "2021-08-30T00:00:00",
          "2021-08-27T00:00:00",
          "2021-08-26T00:00:00",
          "2021-08-25T00:00:00",
          "2021-08-24T00:00:00",
          "2021-08-23T00:00:00",
          "2021-08-20T00:00:00",
          "2021-08-19T00:00:00",
          "2021-08-18T00:00:00",
          "2021-08-17T00:00:00",
          "2021-08-16T00:00:00",
          "2021-08-13T00:00:00",
          "2021-08-12T00:00:00",
          "2021-08-11T00:00:00",
          "2021-08-10T00:00:00",
          "2021-08-09T00:00:00",
          "2021-08-06T00:00:00",
          "2021-08-05T00:00:00",
          "2021-08-04T00:00:00",
          "2021-08-03T00:00:00",
          "2021-07-30T00:00:00",
          "2021-07-29T00:00:00",
          "2021-07-28T00:00:00",
          "2021-07-27T00:00:00",
          "2021-07-26T00:00:00",
          "2021-07-23T00:00:00",
          "2021-07-22T00:00:00",
          "2021-07-21T00:00:00",
          "2021-07-20T00:00:00",
          "2021-07-19T00:00:00",
          "2021-07-16T00:00:00",
          "2021-07-15T00:00:00",
          "2021-07-14T00:00:00",
          "2021-07-13T00:00:00",
          "2021-07-12T00:00:00",
          "2021-07-09T00:00:00",
          "2021-07-08T00:00:00",
          "2021-07-07T00:00:00",
          "2021-07-06T00:00:00",
          "2021-07-05T00:00:00",
          "2021-07-02T00:00:00",
          "2021-07-01T00:00:00",
          "2021-06-30T00:00:00",
          "2021-06-29T00:00:00",
          "2021-06-28T00:00:00",
          "2021-06-25T00:00:00",
          "2021-06-24T00:00:00",
          "2021-06-23T00:00:00",
          "2021-06-22T00:00:00",
          "2021-06-21T00:00:00",
          "2021-06-18T00:00:00",
          "2021-06-17T00:00:00",
          "2021-06-16T00:00:00",
          "2021-06-15T00:00:00",
          "2021-06-14T00:00:00",
          "2021-06-11T00:00:00",
          "2021-06-10T00:00:00",
          "2021-06-09T00:00:00",
          "2021-06-08T00:00:00",
          "2021-06-04T00:00:00",
          "2021-06-03T00:00:00",
          "2021-06-02T00:00:00",
          "2021-06-01T00:00:00",
          "2021-05-31T00:00:00",
          "2021-05-28T00:00:00",
          "2021-05-27T00:00:00",
          "2021-05-26T00:00:00",
          "2021-05-25T00:00:00",
          "2021-05-24T00:00:00",
          "2021-05-21T00:00:00",
          "2021-05-20T00:00:00",
          "2021-05-19T00:00:00",
          "2021-05-18T00:00:00",
          "2021-05-17T00:00:00",
          "2021-05-14T00:00:00",
          "2021-05-13T00:00:00",
          "2021-05-12T00:00:00",
          "2021-05-11T00:00:00",
          "2021-05-10T00:00:00",
          "2021-05-07T00:00:00",
          "2021-05-06T00:00:00",
          "2021-05-05T00:00:00",
          "2021-05-04T00:00:00",
          "2021-04-30T00:00:00",
          "2021-04-29T00:00:00",
          "2021-04-28T00:00:00",
          "2021-04-27T00:00:00",
          "2021-04-26T00:00:00",
          "2021-04-23T00:00:00",
          "2021-04-22T00:00:00",
          "2021-04-21T00:00:00",
          "2021-04-20T00:00:00",
          "2021-04-15T00:00:00",
          "2021-04-14T00:00:00",
          "2021-04-13T00:00:00",
          "2021-04-12T00:00:00",
          "2021-04-08T00:00:00",
          "2021-04-07T00:00:00",
          "2021-04-06T00:00:00",
          "2021-04-01T00:00:00",
          "2021-03-31T00:00:00",
          "2021-03-30T00:00:00",
          "2021-03-29T00:00:00",
          "2021-03-26T00:00:00",
          "2021-03-25T00:00:00",
          "2021-03-24T00:00:00",
          "2021-03-23T00:00:00",
          "2021-03-22T00:00:00",
          "2021-03-19T00:00:00",
          "2021-03-18T00:00:00",
          "2021-03-16T00:00:00",
          "2021-03-15T00:00:00",
          "2021-03-12T00:00:00",
          "2021-03-11T00:00:00",
          "2021-03-10T00:00:00",
          "2021-03-09T00:00:00",
          "2021-03-08T00:00:00",
          "2021-03-05T00:00:00",
          "2021-03-04T00:00:00",
          "2021-03-03T00:00:00",
          "2021-03-02T00:00:00",
          "2021-03-01T00:00:00",
          "2021-02-26T00:00:00",
          "2021-02-25T00:00:00",
          "2021-02-24T00:00:00",
          "2021-02-23T00:00:00",
          "2021-02-22T00:00:00",
          "2021-02-19T00:00:00",
          "2021-02-18T00:00:00",
          "2021-02-17T00:00:00",
          "2021-02-16T00:00:00",
          "2021-02-15T00:00:00",
          "2021-02-12T00:00:00",
          "2021-02-11T00:00:00",
          "2021-02-10T00:00:00",
          "2021-02-09T00:00:00",
          "2021-02-08T00:00:00",
          "2021-02-05T00:00:00",
          "2021-02-04T00:00:00",
          "2021-02-03T00:00:00",
          "2021-02-02T00:00:00",
          "2021-02-01T00:00:00",
          "2021-01-29T00:00:00",
          "2021-01-28T00:00:00",
          "2021-01-27T00:00:00",
          "2021-01-26T00:00:00",
          "2021-01-25T00:00:00",
          "2021-01-22T00:00:00",
          "2021-01-21T00:00:00",
          "2021-01-20T00:00:00",
          "2021-01-19T00:00:00",
          "2021-01-18T00:00:00",
          "2021-01-15T00:00:00",
          "2021-01-14T00:00:00",
          "2021-01-13T00:00:00",
          "2021-01-12T00:00:00",
          "2021-01-11T00:00:00",
          "2021-01-08T00:00:00",
          "2021-01-07T00:00:00",
          "2021-01-06T00:00:00",
          "2021-01-05T00:00:00",
          "2021-01-04T00:00:00",
          "2020-12-31T00:00:00",
          "2020-12-30T00:00:00",
          "2020-12-24T00:00:00",
          "2020-12-23T00:00:00",
          "2020-12-22T00:00:00",
          "2020-12-21T00:00:00",
          "2020-12-18T00:00:00",
          "2020-12-17T00:00:00",
          "2020-12-16T00:00:00",
          "2020-12-15T00:00:00",
          "2020-12-14T00:00:00",
          "2020-12-11T00:00:00",
          "2020-12-10T00:00:00",
          "2020-12-09T00:00:00",
          "2020-12-08T00:00:00"
         ],
         "y": [
          null,
          null,
          null,
          null,
          null,
          -0.03643251072363656,
          -0.03643251072363656,
          -0.03944069968246905,
          -0.03911953190303715,
          -0.03911953190303715,
          -0.027138343489054483,
          -0.027138343489054483,
          -0.027138343489054483,
          -0.0525482056044136,
          -0.0525482056044136,
          -0.052438957775714064,
          -0.06773365379363078,
          -0.06773365379363078,
          -0.06773365379363078,
          -0.07440750583003417,
          -0.07860497759542188,
          -0.07860497759542188,
          -0.04351346974032289,
          -0.04351346974032289,
          -0.03444366463315868,
          -0.03444366463315868,
          -0.04378742514970055,
          -0.04912541868254556,
          -0.06223783557046968,
          -0.06263102725366859,
          -0.048322851153039685,
          -0.025325690463783253,
          -0.019854090672225128,
          -0.014121938509640478,
          -0.0276007401315789,
          -0.04052135104980219,
          -0.03157307926211218,
          -0.05922607325718784,
          -0.0653003326159263,
          -0.048327137546468384,
          -0.035511641557425117,
          -0.03482684406182742,
          -0.03419096067305802,
          -0.03516924280962618,
          -0.027318901326495316,
          -0.029758976881455824,
          -0.029758976881455824,
          -0.029758976881455824,
          -0.029758976881455824,
          -0.02882439744220357,
          -0.030398425971470664,
          -0.022852327368264442,
          -0.017983269047738403,
          -0.028903471422131028,
          -0.03534156793546763,
          -0.03534156793546763,
          -0.03534156793546763,
          -0.02397469904101198,
          -0.022332888386898155,
          -0.022332888386898155,
          -0.030495876183688025,
          -0.049797914275734795,
          -0.05301108956188783,
          -0.06293671882688712,
          -0.08259418216499759,
          -0.07810006570918997,
          -0.07713206852090627,
          -0.07400073678393808,
          -0.06419230060784684,
          -0.03435255111438581,
          -0.018880088414072578,
          -0.023582103194552433,
          -0.023582103194552433,
          -0.023582103194552433,
          -0.023582103194552433,
          -0.027583720196511553,
          -0.03420027754151929,
          -0.03420027754151929,
          -0.03796177214067134,
          -0.036320901148609655,
          -0.017827841589427514,
          -0.017827841589427514,
          -0.02142001862610318,
          -0.03494611734444988,
          -0.039408210414075016,
          -0.04620579349564596,
          -0.05090341289315183,
          -0.03589232303090719,
          -0.022379486236845658,
          -0.016049211414828072,
          -0.032256565187078735,
          -0.050848245410179,
          -0.050848245410179,
          -0.050848245410179,
          -0.04677216076179802,
          -0.0345593797276854,
          -0.04131261443124731,
          -0.022252476409558082,
          -0.04681922196796337,
          -0.07150818064286028,
          -0.057019303642280764,
          -0.05376487896215057,
          -0.05376487896215057,
          -0.0342829120413714,
          -0.04837055860193486,
          -0.03322756119673604,
          -0.03322756119673604,
          -0.04559741265430682,
          -0.032776290277905885,
          -0.036246550137994334,
          -0.036246550137994334,
          -0.036246550137994334,
          -0.036246550137994334,
          -0.029944802207911677,
          -0.03518859245630161,
          -0.04936621341322892,
          -0.04718768775708281,
          -0.03614007199962596,
          -0.0326122659659331,
          -0.03749007890190956,
          -0.03749007890190956,
          -0.03749007890190956,
          -0.014473131331994897,
          -0.013352630841776056,
          -0.013352630841776056,
          -0.013352630841776056,
          -0.013352630841776056,
          -0.015962877030162467,
          -0.015962877030162467,
          -0.015962877030162467,
          -0.015962877030162467,
          -0.01976798143851517,
          -0.01976798143851517,
          -0.020470829068577338,
          -0.02390456957685626,
          -0.022573363431151263,
          -0.03256034074775196,
          -0.03256034074775196,
          -0.02906811057281269,
          -0.01942725572024757,
          -0.01942725572024757,
          -0.02368598058998744,
          -0.033198808494282646,
          -0.03949264917843755,
          -0.07782962143441252,
          -0.06950444110081067,
          -0.05659170316421446,
          -0.04730904934651899,
          -0.041066426570628325,
          -0.0135100293920487,
          -0.026401278811942475,
          -0.03047491362862894,
          -0.03671427834785746,
          -0.04742182646510667,
          -0.03821023469761129,
          -0.05592924103596213,
          -0.05196255717476866,
          -0.04694609496279655,
          -0.03610794374762462,
          -0.061845034479014106,
          -0.033722946143951764,
          -0.033722946143951764,
          -0.03609483960948407,
          -0.07421100573326912,
          -0.07421100573326912,
          -0.09938694929343309,
          -0.0838378655720881,
          -0.10433218408034782,
          -0.08907777723185782,
          -0.10503958293106787,
          -0.07086310098474609,
          -0.0619434952110508,
          -0.03677142994657551,
          -0.024016941810656126,
          -0.030707031814025204,
          -0.062761707657506,
          -0.062761707657506,
          -0.05255431591309462,
          -0.04675017260084823,
          -0.07686578280947406,
          -0.054422460709017864,
          -0.054422460709017864,
          -0.03982026650139434,
          -0.038230729436109535,
          -0.01820876561507523,
          -0.058384501376243805,
          -0.06912979038746564,
          -0.06912979038746564,
          -0.05972303908463888,
          -0.05186543023506577,
          -0.04796448679081868,
          -0.07173396674584333,
          -0.05368171021377669,
          -0.052309316442333054,
          -0.05688921573777373,
          -0.029882884302294997,
          -0.027414526547975528,
          -0.027414526547975528,
          -0.03629011081350764,
          -0.04679376083188917,
          -0.0723176303765558,
          -0.06722289697417752,
          -0.06722289697417752,
          -0.05882352941176466,
          -0.11458646616541343,
          -0.13262951141664606,
          -0.11878222440461562,
          -0.11622882396268094,
          -0.09003636363636361,
          -0.032727272727272765,
          -0.044888018719258765,
          -0.08499931378379616,
          -0.08499931378379616,
          -0.06673925865432603,
          -0.07304763192285155,
          -0.08133362579513062,
          -0.05115156832638738,
          -0.05115156832638738,
          -0.033077429260802864,
          -0.027900855450756865,
          -0.027900855450756865,
          -0.03799371931531698,
          -0.03481850406066316,
          -0.04274967340871218,
          -0.04271424709380916,
          -0.05803370280255926,
          -0.040459770114942485,
          -0.04262935242434095,
          -0.030870588235294063,
          -0.030688129530264403,
          -0.027805315583250657,
          -0.027805315583250657,
          -0.027805315583250657,
          -0.02634187792097436,
          -0.034603219562857036,
          -0.03814379455223527,
          -0.028152829646653308,
          -0.017199612403100795,
          -0.026860606060605988,
          -0.02845965770171153,
          -0.03489570552147232,
          -0.032269189082668126,
          -0.03835346315011085,
          -0.05769518210353252,
          -0.052546808938997235,
          -0.04429414157851923,
          -0.04327241256427233,
          -0.03660224534782397,
          -0.01838600156698879,
          -0.033082938876312036,
          -0.033082938876312036,
          -0.019911504424778785,
          -0.023615970364272466,
          -0.023615970364272466,
          -0.04172669273513068,
          -0.038808897146100994,
          -0.032115574494621345,
          -0.020922041738947572,
          -0.020922041738947572,
          -0.019178664399936284,
          -0.019178664399936284,
          -0.019178664399936284
         ]
        }
       ],
       "layout": {
        "shapes": [
         {
          "type": "line",
          "x0": 0,
          "x1": 1,
          "xref": "x domain",
          "y0": 0.010201540725619563,
          "y1": 0.010201540725619563,
          "yref": "y"
         }
        ],
        "template": {
         "data": {
          "bar": [
           {
            "error_x": {
             "color": "#2a3f5f"
            },
            "error_y": {
             "color": "#2a3f5f"
            },
            "marker": {
             "line": {
              "color": "#E5ECF6",
              "width": 0.5
             },
             "pattern": {
              "fillmode": "overlay",
              "size": 10,
              "solidity": 0.2
             }
            },
            "type": "bar"
           }
          ],
          "barpolar": [
           {
            "marker": {
             "line": {
              "color": "#E5ECF6",
              "width": 0.5
             },
             "pattern": {
              "fillmode": "overlay",
              "size": 10,
              "solidity": 0.2
             }
            },
            "type": "barpolar"
           }
          ],
          "carpet": [
           {
            "aaxis": {
             "endlinecolor": "#2a3f5f",
             "gridcolor": "white",
             "linecolor": "white",
             "minorgridcolor": "white",
             "startlinecolor": "#2a3f5f"
            },
            "baxis": {
             "endlinecolor": "#2a3f5f",
             "gridcolor": "white",
             "linecolor": "white",
             "minorgridcolor": "white",
             "startlinecolor": "#2a3f5f"
            },
            "type": "carpet"
           }
          ],
          "choropleth": [
           {
            "colorbar": {
             "outlinewidth": 0,
             "ticks": ""
            },
            "type": "choropleth"
           }
          ],
          "contour": [
           {
            "colorbar": {
             "outlinewidth": 0,
             "ticks": ""
            },
            "colorscale": [
             [
              0,
              "#0d0887"
             ],
             [
              0.1111111111111111,
              "#46039f"
             ],
             [
              0.2222222222222222,
              "#7201a8"
             ],
             [
              0.3333333333333333,
              "#9c179e"
             ],
             [
              0.4444444444444444,
              "#bd3786"
             ],
             [
              0.5555555555555556,
              "#d8576b"
             ],
             [
              0.6666666666666666,
              "#ed7953"
             ],
             [
              0.7777777777777778,
              "#fb9f3a"
             ],
             [
              0.8888888888888888,
              "#fdca26"
             ],
             [
              1,
              "#f0f921"
             ]
            ],
            "type": "contour"
           }
          ],
          "contourcarpet": [
           {
            "colorbar": {
             "outlinewidth": 0,
             "ticks": ""
            },
            "type": "contourcarpet"
           }
          ],
          "heatmap": [
           {
            "colorbar": {
             "outlinewidth": 0,
             "ticks": ""
            },
            "colorscale": [
             [
              0,
              "#0d0887"
             ],
             [
              0.1111111111111111,
              "#46039f"
             ],
             [
              0.2222222222222222,
              "#7201a8"
             ],
             [
              0.3333333333333333,
              "#9c179e"
             ],
             [
              0.4444444444444444,
              "#bd3786"
             ],
             [
              0.5555555555555556,
              "#d8576b"
             ],
             [
              0.6666666666666666,
              "#ed7953"
             ],
             [
              0.7777777777777778,
              "#fb9f3a"
             ],
             [
              0.8888888888888888,
              "#fdca26"
             ],
             [
              1,
              "#f0f921"
             ]
            ],
            "type": "heatmap"
           }
          ],
          "heatmapgl": [
           {
            "colorbar": {
             "outlinewidth": 0,
             "ticks": ""
            },
            "colorscale": [
             [
              0,
              "#0d0887"
             ],
             [
              0.1111111111111111,
              "#46039f"
             ],
             [
              0.2222222222222222,
              "#7201a8"
             ],
             [
              0.3333333333333333,
              "#9c179e"
             ],
             [
              0.4444444444444444,
              "#bd3786"
             ],
             [
              0.5555555555555556,
              "#d8576b"
             ],
             [
              0.6666666666666666,
              "#ed7953"
             ],
             [
              0.7777777777777778,
              "#fb9f3a"
             ],
             [
              0.8888888888888888,
              "#fdca26"
             ],
             [
              1,
              "#f0f921"
             ]
            ],
            "type": "heatmapgl"
           }
          ],
          "histogram": [
           {
            "marker": {
             "pattern": {
              "fillmode": "overlay",
              "size": 10,
              "solidity": 0.2
             }
            },
            "type": "histogram"
           }
          ],
          "histogram2d": [
           {
            "colorbar": {
             "outlinewidth": 0,
             "ticks": ""
            },
            "colorscale": [
             [
              0,
              "#0d0887"
             ],
             [
              0.1111111111111111,
              "#46039f"
             ],
             [
              0.2222222222222222,
              "#7201a8"
             ],
             [
              0.3333333333333333,
              "#9c179e"
             ],
             [
              0.4444444444444444,
              "#bd3786"
             ],
             [
              0.5555555555555556,
              "#d8576b"
             ],
             [
              0.6666666666666666,
              "#ed7953"
             ],
             [
              0.7777777777777778,
              "#fb9f3a"
             ],
             [
              0.8888888888888888,
              "#fdca26"
             ],
             [
              1,
              "#f0f921"
             ]
            ],
            "type": "histogram2d"
           }
          ],
          "histogram2dcontour": [
           {
            "colorbar": {
             "outlinewidth": 0,
             "ticks": ""
            },
            "colorscale": [
             [
              0,
              "#0d0887"
             ],
             [
              0.1111111111111111,
              "#46039f"
             ],
             [
              0.2222222222222222,
              "#7201a8"
             ],
             [
              0.3333333333333333,
              "#9c179e"
             ],
             [
              0.4444444444444444,
              "#bd3786"
             ],
             [
              0.5555555555555556,
              "#d8576b"
             ],
             [
              0.6666666666666666,
              "#ed7953"
             ],
             [
              0.7777777777777778,
              "#fb9f3a"
             ],
             [
              0.8888888888888888,
              "#fdca26"
             ],
             [
              1,
              "#f0f921"
             ]
            ],
            "type": "histogram2dcontour"
           }
          ],
          "mesh3d": [
           {
            "colorbar": {
             "outlinewidth": 0,
             "ticks": ""
            },
            "type": "mesh3d"
           }
          ],
          "parcoords": [
           {
            "line": {
             "colorbar": {
              "outlinewidth": 0,
              "ticks": ""
             }
            },
            "type": "parcoords"
           }
          ],
          "pie": [
           {
            "automargin": true,
            "type": "pie"
           }
          ],
          "scatter": [
           {
            "marker": {
             "colorbar": {
              "outlinewidth": 0,
              "ticks": ""
             }
            },
            "type": "scatter"
           }
          ],
          "scatter3d": [
           {
            "line": {
             "colorbar": {
              "outlinewidth": 0,
              "ticks": ""
             }
            },
            "marker": {
             "colorbar": {
              "outlinewidth": 0,
              "ticks": ""
             }
            },
            "type": "scatter3d"
           }
          ],
          "scattercarpet": [
           {
            "marker": {
             "colorbar": {
              "outlinewidth": 0,
              "ticks": ""
             }
            },
            "type": "scattercarpet"
           }
          ],
          "scattergeo": [
           {
            "marker": {
             "colorbar": {
              "outlinewidth": 0,
              "ticks": ""
             }
            },
            "type": "scattergeo"
           }
          ],
          "scattergl": [
           {
            "marker": {
             "colorbar": {
              "outlinewidth": 0,
              "ticks": ""
             }
            },
            "type": "scattergl"
           }
          ],
          "scattermapbox": [
           {
            "marker": {
             "colorbar": {
              "outlinewidth": 0,
              "ticks": ""
             }
            },
            "type": "scattermapbox"
           }
          ],
          "scatterpolar": [
           {
            "marker": {
             "colorbar": {
              "outlinewidth": 0,
              "ticks": ""
             }
            },
            "type": "scatterpolar"
           }
          ],
          "scatterpolargl": [
           {
            "marker": {
             "colorbar": {
              "outlinewidth": 0,
              "ticks": ""
             }
            },
            "type": "scatterpolargl"
           }
          ],
          "scatterternary": [
           {
            "marker": {
             "colorbar": {
              "outlinewidth": 0,
              "ticks": ""
             }
            },
            "type": "scatterternary"
           }
          ],
          "surface": [
           {
            "colorbar": {
             "outlinewidth": 0,
             "ticks": ""
            },
            "colorscale": [
             [
              0,
              "#0d0887"
             ],
             [
              0.1111111111111111,
              "#46039f"
             ],
             [
              0.2222222222222222,
              "#7201a8"
             ],
             [
              0.3333333333333333,
              "#9c179e"
             ],
             [
              0.4444444444444444,
              "#bd3786"
             ],
             [
              0.5555555555555556,
              "#d8576b"
             ],
             [
              0.6666666666666666,
              "#ed7953"
             ],
             [
              0.7777777777777778,
              "#fb9f3a"
             ],
             [
              0.8888888888888888,
              "#fdca26"
             ],
             [
              1,
              "#f0f921"
             ]
            ],
            "type": "surface"
           }
          ],
          "table": [
           {
            "cells": {
             "fill": {
              "color": "#EBF0F8"
             },
             "line": {
              "color": "white"
             }
            },
            "header": {
             "fill": {
              "color": "#C8D4E3"
             },
             "line": {
              "color": "white"
             }
            },
            "type": "table"
           }
          ]
         },
         "layout": {
          "annotationdefaults": {
           "arrowcolor": "#2a3f5f",
           "arrowhead": 0,
           "arrowwidth": 1
          },
          "autotypenumbers": "strict",
          "coloraxis": {
           "colorbar": {
            "outlinewidth": 0,
            "ticks": ""
           }
          },
          "colorscale": {
           "diverging": [
            [
             0,
             "#8e0152"
            ],
            [
             0.1,
             "#c51b7d"
            ],
            [
             0.2,
             "#de77ae"
            ],
            [
             0.3,
             "#f1b6da"
            ],
            [
             0.4,
             "#fde0ef"
            ],
            [
             0.5,
             "#f7f7f7"
            ],
            [
             0.6,
             "#e6f5d0"
            ],
            [
             0.7,
             "#b8e186"
            ],
            [
             0.8,
             "#7fbc41"
            ],
            [
             0.9,
             "#4d9221"
            ],
            [
             1,
             "#276419"
            ]
           ],
           "sequential": [
            [
             0,
             "#0d0887"
            ],
            [
             0.1111111111111111,
             "#46039f"
            ],
            [
             0.2222222222222222,
             "#7201a8"
            ],
            [
             0.3333333333333333,
             "#9c179e"
            ],
            [
             0.4444444444444444,
             "#bd3786"
            ],
            [
             0.5555555555555556,
             "#d8576b"
            ],
            [
             0.6666666666666666,
             "#ed7953"
            ],
            [
             0.7777777777777778,
             "#fb9f3a"
            ],
            [
             0.8888888888888888,
             "#fdca26"
            ],
            [
             1,
             "#f0f921"
            ]
           ],
           "sequentialminus": [
            [
             0,
             "#0d0887"
            ],
            [
             0.1111111111111111,
             "#46039f"
            ],
            [
             0.2222222222222222,
             "#7201a8"
            ],
            [
             0.3333333333333333,
             "#9c179e"
            ],
            [
             0.4444444444444444,
             "#bd3786"
            ],
            [
             0.5555555555555556,
             "#d8576b"
            ],
            [
             0.6666666666666666,
             "#ed7953"
            ],
            [
             0.7777777777777778,
             "#fb9f3a"
            ],
            [
             0.8888888888888888,
             "#fdca26"
            ],
            [
             1,
             "#f0f921"
            ]
           ]
          },
          "colorway": [
           "#636efa",
           "#EF553B",
           "#00cc96",
           "#ab63fa",
           "#FFA15A",
           "#19d3f3",
           "#FF6692",
           "#B6E880",
           "#FF97FF",
           "#FECB52"
          ],
          "font": {
           "color": "#2a3f5f"
          },
          "geo": {
           "bgcolor": "white",
           "lakecolor": "white",
           "landcolor": "#E5ECF6",
           "showlakes": true,
           "showland": true,
           "subunitcolor": "white"
          },
          "hoverlabel": {
           "align": "left"
          },
          "hovermode": "closest",
          "mapbox": {
           "style": "light"
          },
          "paper_bgcolor": "white",
          "plot_bgcolor": "#E5ECF6",
          "polar": {
           "angularaxis": {
            "gridcolor": "white",
            "linecolor": "white",
            "ticks": ""
           },
           "bgcolor": "#E5ECF6",
           "radialaxis": {
            "gridcolor": "white",
            "linecolor": "white",
            "ticks": ""
           }
          },
          "scene": {
           "xaxis": {
            "backgroundcolor": "#E5ECF6",
            "gridcolor": "white",
            "gridwidth": 2,
            "linecolor": "white",
            "showbackground": true,
            "ticks": "",
            "zerolinecolor": "white"
           },
           "yaxis": {
            "backgroundcolor": "#E5ECF6",
            "gridcolor": "white",
            "gridwidth": 2,
            "linecolor": "white",
            "showbackground": true,
            "ticks": "",
            "zerolinecolor": "white"
           },
           "zaxis": {
            "backgroundcolor": "#E5ECF6",
            "gridcolor": "white",
            "gridwidth": 2,
            "linecolor": "white",
            "showbackground": true,
            "ticks": "",
            "zerolinecolor": "white"
           }
          },
          "shapedefaults": {
           "line": {
            "color": "#2a3f5f"
           }
          },
          "ternary": {
           "aaxis": {
            "gridcolor": "white",
            "linecolor": "white",
            "ticks": ""
           },
           "baxis": {
            "gridcolor": "white",
            "linecolor": "white",
            "ticks": ""
           },
           "bgcolor": "#E5ECF6",
           "caxis": {
            "gridcolor": "white",
            "linecolor": "white",
            "ticks": ""
           }
          },
          "title": {
           "x": 0.05
          },
          "xaxis": {
           "automargin": true,
           "gridcolor": "white",
           "linecolor": "white",
           "ticks": "",
           "title": {
            "standoff": 15
           },
           "zerolinecolor": "white",
           "zerolinewidth": 2
          },
          "yaxis": {
           "automargin": true,
           "gridcolor": "white",
           "linecolor": "white",
           "ticks": "",
           "title": {
            "standoff": 15
           },
           "zerolinecolor": "white",
           "zerolinewidth": 2
          }
         }
        }
       }
      }
     },
     "metadata": {},
     "output_type": "display_data"
    }
   ],
   "source": [
    "fig = go.Figure(data=[ \n",
    "    go.Scatter(\n",
    "        x=df['Date'], \n",
    "        y=daily_max_dd,\n",
    "        line=dict(\n",
    "            color='green', \n",
    "            width=1)\n",
    "        ),\n",
    "    go.Scatter(\n",
    "        x=df['Date'], \n",
    "        y=weekly_max_dd,\n",
    "        line=dict(\n",
    "            color='red', \n",
    "            width=1)\n",
    "        )\n",
    "    ])\n",
    "\n",
    "fig.add_hline(y=daily_max_dd.std())\n",
    "\n",
    "fig.show()                   "
   ]
  },
  {
   "cell_type": "code",
   "execution_count": 94,
   "metadata": {},
   "outputs": [],
   "source": [
    "period = 2\n",
    "max = df['Price'].rolling(window=period).max()\n",
    "min = df['Price'].rolling(window=period).min()\n",
    "daily_max_rw = (max-min)/min"
   ]
  },
  {
   "cell_type": "code",
   "execution_count": 95,
   "metadata": {},
   "outputs": [],
   "source": [
    "period = 5\n",
    "max = df['Price'].rolling(window=period).max()\n",
    "min = df['Price'].rolling(window=period).min()\n",
    "weekly_max_rw = (max-min)/min"
   ]
  },
  {
   "cell_type": "code",
   "execution_count": 99,
   "metadata": {},
   "outputs": [
    {
     "data": {
      "application/vnd.plotly.v1+json": {
       "config": {
        "plotlyServerURL": "https://plot.ly"
       },
       "data": [
        {
         "line": {
          "color": "green",
          "width": 1
         },
         "type": "scatter",
         "x": [
          "2021-12-31T00:00:00",
          "2021-12-30T00:00:00",
          "2021-12-24T00:00:00",
          "2021-12-23T00:00:00",
          "2021-12-22T00:00:00",
          "2021-12-21T00:00:00",
          "2021-12-20T00:00:00",
          "2021-12-17T00:00:00",
          "2021-12-16T00:00:00",
          "2021-12-15T00:00:00",
          "2021-12-14T00:00:00",
          "2021-12-13T00:00:00",
          "2021-12-10T00:00:00",
          "2021-12-09T00:00:00",
          "2021-12-08T00:00:00",
          "2021-12-07T00:00:00",
          "2021-12-06T00:00:00",
          "2021-12-03T00:00:00",
          "2021-12-02T00:00:00",
          "2021-12-01T00:00:00",
          "2021-11-30T00:00:00",
          "2021-11-29T00:00:00",
          "2021-11-26T00:00:00",
          "2021-11-25T00:00:00",
          "2021-11-24T00:00:00",
          "2021-11-23T00:00:00",
          "2021-11-22T00:00:00",
          "2021-11-19T00:00:00",
          "2021-11-18T00:00:00",
          "2021-11-17T00:00:00",
          "2021-11-16T00:00:00",
          "2021-11-15T00:00:00",
          "2021-11-12T00:00:00",
          "2021-11-11T00:00:00",
          "2021-11-10T00:00:00",
          "2021-11-09T00:00:00",
          "2021-11-08T00:00:00",
          "2021-11-05T00:00:00",
          "2021-11-04T00:00:00",
          "2021-11-03T00:00:00",
          "2021-11-02T00:00:00",
          "2021-11-01T00:00:00",
          "2021-10-29T00:00:00",
          "2021-10-28T00:00:00",
          "2021-10-27T00:00:00",
          "2021-10-26T00:00:00",
          "2021-10-22T00:00:00",
          "2021-10-21T00:00:00",
          "2021-10-20T00:00:00",
          "2021-10-19T00:00:00",
          "2021-10-18T00:00:00",
          "2021-10-15T00:00:00",
          "2021-10-14T00:00:00",
          "2021-10-13T00:00:00",
          "2021-10-12T00:00:00",
          "2021-10-11T00:00:00",
          "2021-10-08T00:00:00",
          "2021-10-07T00:00:00",
          "2021-10-06T00:00:00",
          "2021-10-05T00:00:00",
          "2021-10-04T00:00:00",
          "2021-10-01T00:00:00",
          "2021-09-30T00:00:00",
          "2021-09-29T00:00:00",
          "2021-09-28T00:00:00",
          "2021-09-27T00:00:00",
          "2021-09-24T00:00:00",
          "2021-09-23T00:00:00",
          "2021-09-22T00:00:00",
          "2021-09-21T00:00:00",
          "2021-09-20T00:00:00",
          "2021-09-17T00:00:00",
          "2021-09-16T00:00:00",
          "2021-09-15T00:00:00",
          "2021-09-14T00:00:00",
          "2021-09-13T00:00:00",
          "2021-09-10T00:00:00",
          "2021-09-09T00:00:00",
          "2021-09-08T00:00:00",
          "2021-09-07T00:00:00",
          "2021-09-06T00:00:00",
          "2021-09-03T00:00:00",
          "2021-09-02T00:00:00",
          "2021-09-01T00:00:00",
          "2021-08-31T00:00:00",
          "2021-08-30T00:00:00",
          "2021-08-27T00:00:00",
          "2021-08-26T00:00:00",
          "2021-08-25T00:00:00",
          "2021-08-24T00:00:00",
          "2021-08-23T00:00:00",
          "2021-08-20T00:00:00",
          "2021-08-19T00:00:00",
          "2021-08-18T00:00:00",
          "2021-08-17T00:00:00",
          "2021-08-16T00:00:00",
          "2021-08-13T00:00:00",
          "2021-08-12T00:00:00",
          "2021-08-11T00:00:00",
          "2021-08-10T00:00:00",
          "2021-08-09T00:00:00",
          "2021-08-06T00:00:00",
          "2021-08-05T00:00:00",
          "2021-08-04T00:00:00",
          "2021-08-03T00:00:00",
          "2021-07-30T00:00:00",
          "2021-07-29T00:00:00",
          "2021-07-28T00:00:00",
          "2021-07-27T00:00:00",
          "2021-07-26T00:00:00",
          "2021-07-23T00:00:00",
          "2021-07-22T00:00:00",
          "2021-07-21T00:00:00",
          "2021-07-20T00:00:00",
          "2021-07-19T00:00:00",
          "2021-07-16T00:00:00",
          "2021-07-15T00:00:00",
          "2021-07-14T00:00:00",
          "2021-07-13T00:00:00",
          "2021-07-12T00:00:00",
          "2021-07-09T00:00:00",
          "2021-07-08T00:00:00",
          "2021-07-07T00:00:00",
          "2021-07-06T00:00:00",
          "2021-07-05T00:00:00",
          "2021-07-02T00:00:00",
          "2021-07-01T00:00:00",
          "2021-06-30T00:00:00",
          "2021-06-29T00:00:00",
          "2021-06-28T00:00:00",
          "2021-06-25T00:00:00",
          "2021-06-24T00:00:00",
          "2021-06-23T00:00:00",
          "2021-06-22T00:00:00",
          "2021-06-21T00:00:00",
          "2021-06-18T00:00:00",
          "2021-06-17T00:00:00",
          "2021-06-16T00:00:00",
          "2021-06-15T00:00:00",
          "2021-06-14T00:00:00",
          "2021-06-11T00:00:00",
          "2021-06-10T00:00:00",
          "2021-06-09T00:00:00",
          "2021-06-08T00:00:00",
          "2021-06-04T00:00:00",
          "2021-06-03T00:00:00",
          "2021-06-02T00:00:00",
          "2021-06-01T00:00:00",
          "2021-05-31T00:00:00",
          "2021-05-28T00:00:00",
          "2021-05-27T00:00:00",
          "2021-05-26T00:00:00",
          "2021-05-25T00:00:00",
          "2021-05-24T00:00:00",
          "2021-05-21T00:00:00",
          "2021-05-20T00:00:00",
          "2021-05-19T00:00:00",
          "2021-05-18T00:00:00",
          "2021-05-17T00:00:00",
          "2021-05-14T00:00:00",
          "2021-05-13T00:00:00",
          "2021-05-12T00:00:00",
          "2021-05-11T00:00:00",
          "2021-05-10T00:00:00",
          "2021-05-07T00:00:00",
          "2021-05-06T00:00:00",
          "2021-05-05T00:00:00",
          "2021-05-04T00:00:00",
          "2021-04-30T00:00:00",
          "2021-04-29T00:00:00",
          "2021-04-28T00:00:00",
          "2021-04-27T00:00:00",
          "2021-04-26T00:00:00",
          "2021-04-23T00:00:00",
          "2021-04-22T00:00:00",
          "2021-04-21T00:00:00",
          "2021-04-20T00:00:00",
          "2021-04-15T00:00:00",
          "2021-04-14T00:00:00",
          "2021-04-13T00:00:00",
          "2021-04-12T00:00:00",
          "2021-04-08T00:00:00",
          "2021-04-07T00:00:00",
          "2021-04-06T00:00:00",
          "2021-04-01T00:00:00",
          "2021-03-31T00:00:00",
          "2021-03-30T00:00:00",
          "2021-03-29T00:00:00",
          "2021-03-26T00:00:00",
          "2021-03-25T00:00:00",
          "2021-03-24T00:00:00",
          "2021-03-23T00:00:00",
          "2021-03-22T00:00:00",
          "2021-03-19T00:00:00",
          "2021-03-18T00:00:00",
          "2021-03-16T00:00:00",
          "2021-03-15T00:00:00",
          "2021-03-12T00:00:00",
          "2021-03-11T00:00:00",
          "2021-03-10T00:00:00",
          "2021-03-09T00:00:00",
          "2021-03-08T00:00:00",
          "2021-03-05T00:00:00",
          "2021-03-04T00:00:00",
          "2021-03-03T00:00:00",
          "2021-03-02T00:00:00",
          "2021-03-01T00:00:00",
          "2021-02-26T00:00:00",
          "2021-02-25T00:00:00",
          "2021-02-24T00:00:00",
          "2021-02-23T00:00:00",
          "2021-02-22T00:00:00",
          "2021-02-19T00:00:00",
          "2021-02-18T00:00:00",
          "2021-02-17T00:00:00",
          "2021-02-16T00:00:00",
          "2021-02-15T00:00:00",
          "2021-02-12T00:00:00",
          "2021-02-11T00:00:00",
          "2021-02-10T00:00:00",
          "2021-02-09T00:00:00",
          "2021-02-08T00:00:00",
          "2021-02-05T00:00:00",
          "2021-02-04T00:00:00",
          "2021-02-03T00:00:00",
          "2021-02-02T00:00:00",
          "2021-02-01T00:00:00",
          "2021-01-29T00:00:00",
          "2021-01-28T00:00:00",
          "2021-01-27T00:00:00",
          "2021-01-26T00:00:00",
          "2021-01-25T00:00:00",
          "2021-01-22T00:00:00",
          "2021-01-21T00:00:00",
          "2021-01-20T00:00:00",
          "2021-01-19T00:00:00",
          "2021-01-18T00:00:00",
          "2021-01-15T00:00:00",
          "2021-01-14T00:00:00",
          "2021-01-13T00:00:00",
          "2021-01-12T00:00:00",
          "2021-01-11T00:00:00",
          "2021-01-08T00:00:00",
          "2021-01-07T00:00:00",
          "2021-01-06T00:00:00",
          "2021-01-05T00:00:00",
          "2021-01-04T00:00:00",
          "2020-12-31T00:00:00",
          "2020-12-30T00:00:00",
          "2020-12-24T00:00:00",
          "2020-12-23T00:00:00",
          "2020-12-22T00:00:00",
          "2020-12-21T00:00:00",
          "2020-12-18T00:00:00",
          "2020-12-17T00:00:00",
          "2020-12-16T00:00:00",
          "2020-12-15T00:00:00",
          "2020-12-14T00:00:00",
          "2020-12-11T00:00:00",
          "2020-12-10T00:00:00",
          "2020-12-09T00:00:00",
          "2020-12-08T00:00:00"
         ],
         "y": [
          null,
          0.016823726657801952,
          0.03781002485980227,
          0.004476526215656754,
          0.004140786749482493,
          0.01527581329561525,
          0.0024956043332766426,
          0.022501884822826754,
          0.027895377834483655,
          0.021850677428653868,
          0.014009801095416668,
          0.0027937738753634465,
          0.005758595130851194,
          0.03781179138321984,
          0.01519436588476667,
          0.03954574277973136,
          0.01640592957168812,
          0.04136637956289913,
          0.0031608060055314637,
          0.040751820285601474,
          0.004555561581430643,
          0.007725368587127983,
          0.021280142238026396,
          0.011834648294254773,
          0.01822756499860201,
          0.015264187866927573,
          0.030069390902081692,
          0.005613772455089843,
          0.013982667871763417,
          0.00041946308724827595,
          0.008509963528727618,
          0.014324224324752936,
          0.004186289900575711,
          0.00005233136218523572,
          0.018158982678319,
          0.013466282894736866,
          0.0007100111573181533,
          0.029393877964727443,
          0.006498621504529238,
          0.00813649588243992,
          0.010715709728867616,
          0.01615598885793867,
          0.006989111167384053,
          0.008010139416983406,
          0.018859315589353606,
          0.011593770214459719,
          0.007782679819560801,
          0.010519461002855146,
          0,
          0.01109197730956246,
          0.0016233766233766248,
          0.006239853896103952,
          0.011783309528667704,
          0.0112452285154235,
          0.013170272812793921,
          0.006950977317863443,
          0.010951367623397627,
          0.013634471273938407,
          0.009084703040487413,
          0.010239983195925027,
          0.021000103960910694,
          0.020313613684960846,
          0.003393044259268569,
          0.010592272116962424,
          0.031886625332152335,
          0.01602288984263243,
          0.01924340561344223,
          0.002307763315794365,
          0.007439784246256865,
          0.006599578750292619,
          0.014135267961619619,
          0.009876771126597989,
          0.014183082271147205,
          0.0054692931633836435,
          0.0017056193242059204,
          0.021030832949838967,
          0.00685085861089816,
          0.008669345735314046,
          0.018151442633313815,
          0.004991754690912257,
          0.0031644159201318334,
          0.004149007361142092,
          0.015816187800235665,
          0.014015900004595365,
          0.006475186161602173,
          0.007126886528786971,
          0.009119112531728826,
          0.008884083858230706,
          0.0024227740763173647,
          0.004294449890304921,
          0.028913116565006326,
          0.01958767934968915,
          0.020909847705793037,
          0.012711051419800489,
          0.01373217458107254,
          0.015604743842127972,
          0.007044251134644353,
          0.0035806831566547446,
          0.029446407538280327,
          0.026590389016018283,
          0.02852033564124902,
          0.011509010041725786,
          0.004874049104905904,
          0.013433662635029101,
          0.014803710297011101,
          0.0008908894828151334,
          0.00797111642518864,
          0.026011836578846797,
          0.00840015273004956,
          0.02896630064369549,
          0.0020742106476145726,
          0.002680593427924381,
          0.011594744962363884,
          0.014225425577315223,
          0.00543504171632883,
          0.017019006982156838,
          0.0003880481179665851,
          0.023913465269693544,
          0.009569377990430535,
          0.005067805358734951,
          0.007194582902285444,
          0.006293474660483562,
          0.01353333648795729,
          0.008000376488305413,
          0.0014118311449951122,
          0.003442421956050193,
          0.009431293030274417,
          0.0067270858637766,
          0.002605378245091697,
          0.009439721974357794,
          0.0013638073739653835,
          0.006627532664268158,
          0.0002840371141829307,
          0.0036097653652512832,
          0.012990762124711296,
          0.0030311778290994223,
          0.019812151452891162,
          0.0063105371294394546,
          0.011812746098876989,
          0.001202559045649073,
          0.009027811483764497,
          0.013877269819398652,
          0.009839487154002902,
          0.0065526210484193785,
          0.042825100412080826,
          0.006833237702780253,
          0.002336812587630376,
          0.007062366931505386,
          0.00398633257403198,
          0.00967016883592069,
          0.013240824108892537,
          0.004201680672268941,
          0.006477169316417679,
          0.015271739130434912,
          0.0009239130434784247,
          0.033211781206171236,
          0.0031416549789621846,
          0.004324870815547166,
          0.0029292474087426546,
          0.027433730755874536,
          0.0032989929389976944,
          0.030054802422844,
          0.003864247311827904,
          0.04117154811715479,
          0.006634304207119801,
          0.03818770226537228,
          0.012572734829592546,
          0.026834273986659996,
          0.0169889571778344,
          0.01783520856876134,
          0.002322430810915513,
          0.005273853299787196,
          0.016686239968682768,
          0.007791695433474763,
          0.006902030885346807,
          0.034201201663842266,
          0.009654393262466102,
          0.015442619564094777,
          0.0016554578375582013,
          0.03975041686837702,
          0.010112419988166253,
          0.00788965221124938,
          0.013954486904250643,
          0.010105330695610332,
          0.008356696139745587,
          0.04266681657203872,
          0.011543273058114579,
          0.019447287615148547,
          0.002008032128513934,
          0.000556978946195723,
          0.02885150941294423,
          0.02560632308358591,
          0.010777356879901924,
          0.012095685512176695,
          0.02797127274690862,
          0.00021011714030579062,
          0.017093104000854672,
          0.01153784520057695,
          0.03198910081743868,
          0.011019283746556632,
          0.027513586956521573,
          0.01596467391304348,
          0.002897581633790237,
          0.04278253139237691,
          0.06297953964194365,
          0.020802005012531287,
          0.002165247773239355,
          0.015999200039998013,
          0.031198440077996038,
          0.0026737967914438362,
          0.018035974720466634,
          0.04383744806838274,
          0.010633871191455934,
          0.019048499699477507,
          0.006805498843065132,
          0.02721824162948956,
          0.008226812331372459,
          0.014447884416924787,
          0.003964142528942629,
          0.0018051356108128842,
          0.0015794936594611736,
          0.020413793103448232,
          0.011110594579517493,
          0.012282352941176435,
          0.00018827073331456915,
          0.016263273701329756,
          0.0017249640632485774,
          0.013401961736428075,
          0.0031562591045934604,
          0.018635945592719957,
          0.006605208135335456,
          0.014220051709278972,
          0.011918604651162725,
          0.0007272727272727549,
          0.00855745721271397,
          0.00368098159509199,
          0.003793477189871009,
          0.0006408676361842802,
          0.010662149369737363,
          0.010217435071471864,
          0.010374288039055993,
          0.0010690831339408846,
          0.006971856256728314,
          0.031406968751652366,
          0.004728006799829931,
          0.0016495503644975448,
          0.01873037833235781,
          0.0007841087297438875,
          0.004252191716100557,
          0.02031602708803614,
          0.0030448469835372377,
          0.006963571168736702,
          0.014016967908520748,
          0.002423986931548684,
          0.021369127516778507,
          0.007677852348993325,
          0.0029305200341005816,
          0.005717033554178207,
          0,
          0.013757989383598816,
          0.01863286751164561,
          0.013745889709449765
         ]
        },
        {
         "line": {
          "color": "red",
          "width": 1
         },
         "type": "scatter",
         "x": [
          "2021-12-31T00:00:00",
          "2021-12-30T00:00:00",
          "2021-12-24T00:00:00",
          "2021-12-23T00:00:00",
          "2021-12-22T00:00:00",
          "2021-12-21T00:00:00",
          "2021-12-20T00:00:00",
          "2021-12-17T00:00:00",
          "2021-12-16T00:00:00",
          "2021-12-15T00:00:00",
          "2021-12-14T00:00:00",
          "2021-12-13T00:00:00",
          "2021-12-10T00:00:00",
          "2021-12-09T00:00:00",
          "2021-12-08T00:00:00",
          "2021-12-07T00:00:00",
          "2021-12-06T00:00:00",
          "2021-12-03T00:00:00",
          "2021-12-02T00:00:00",
          "2021-12-01T00:00:00",
          "2021-11-30T00:00:00",
          "2021-11-29T00:00:00",
          "2021-11-26T00:00:00",
          "2021-11-25T00:00:00",
          "2021-11-24T00:00:00",
          "2021-11-23T00:00:00",
          "2021-11-22T00:00:00",
          "2021-11-19T00:00:00",
          "2021-11-18T00:00:00",
          "2021-11-17T00:00:00",
          "2021-11-16T00:00:00",
          "2021-11-15T00:00:00",
          "2021-11-12T00:00:00",
          "2021-11-11T00:00:00",
          "2021-11-10T00:00:00",
          "2021-11-09T00:00:00",
          "2021-11-08T00:00:00",
          "2021-11-05T00:00:00",
          "2021-11-04T00:00:00",
          "2021-11-03T00:00:00",
          "2021-11-02T00:00:00",
          "2021-11-01T00:00:00",
          "2021-10-29T00:00:00",
          "2021-10-28T00:00:00",
          "2021-10-27T00:00:00",
          "2021-10-26T00:00:00",
          "2021-10-22T00:00:00",
          "2021-10-21T00:00:00",
          "2021-10-20T00:00:00",
          "2021-10-19T00:00:00",
          "2021-10-18T00:00:00",
          "2021-10-15T00:00:00",
          "2021-10-14T00:00:00",
          "2021-10-13T00:00:00",
          "2021-10-12T00:00:00",
          "2021-10-11T00:00:00",
          "2021-10-08T00:00:00",
          "2021-10-07T00:00:00",
          "2021-10-06T00:00:00",
          "2021-10-05T00:00:00",
          "2021-10-04T00:00:00",
          "2021-10-01T00:00:00",
          "2021-09-30T00:00:00",
          "2021-09-29T00:00:00",
          "2021-09-28T00:00:00",
          "2021-09-27T00:00:00",
          "2021-09-24T00:00:00",
          "2021-09-23T00:00:00",
          "2021-09-22T00:00:00",
          "2021-09-21T00:00:00",
          "2021-09-20T00:00:00",
          "2021-09-17T00:00:00",
          "2021-09-16T00:00:00",
          "2021-09-15T00:00:00",
          "2021-09-14T00:00:00",
          "2021-09-13T00:00:00",
          "2021-09-10T00:00:00",
          "2021-09-09T00:00:00",
          "2021-09-08T00:00:00",
          "2021-09-07T00:00:00",
          "2021-09-06T00:00:00",
          "2021-09-03T00:00:00",
          "2021-09-02T00:00:00",
          "2021-09-01T00:00:00",
          "2021-08-31T00:00:00",
          "2021-08-30T00:00:00",
          "2021-08-27T00:00:00",
          "2021-08-26T00:00:00",
          "2021-08-25T00:00:00",
          "2021-08-24T00:00:00",
          "2021-08-23T00:00:00",
          "2021-08-20T00:00:00",
          "2021-08-19T00:00:00",
          "2021-08-18T00:00:00",
          "2021-08-17T00:00:00",
          "2021-08-16T00:00:00",
          "2021-08-13T00:00:00",
          "2021-08-12T00:00:00",
          "2021-08-11T00:00:00",
          "2021-08-10T00:00:00",
          "2021-08-09T00:00:00",
          "2021-08-06T00:00:00",
          "2021-08-05T00:00:00",
          "2021-08-04T00:00:00",
          "2021-08-03T00:00:00",
          "2021-07-30T00:00:00",
          "2021-07-29T00:00:00",
          "2021-07-28T00:00:00",
          "2021-07-27T00:00:00",
          "2021-07-26T00:00:00",
          "2021-07-23T00:00:00",
          "2021-07-22T00:00:00",
          "2021-07-21T00:00:00",
          "2021-07-20T00:00:00",
          "2021-07-19T00:00:00",
          "2021-07-16T00:00:00",
          "2021-07-15T00:00:00",
          "2021-07-14T00:00:00",
          "2021-07-13T00:00:00",
          "2021-07-12T00:00:00",
          "2021-07-09T00:00:00",
          "2021-07-08T00:00:00",
          "2021-07-07T00:00:00",
          "2021-07-06T00:00:00",
          "2021-07-05T00:00:00",
          "2021-07-02T00:00:00",
          "2021-07-01T00:00:00",
          "2021-06-30T00:00:00",
          "2021-06-29T00:00:00",
          "2021-06-28T00:00:00",
          "2021-06-25T00:00:00",
          "2021-06-24T00:00:00",
          "2021-06-23T00:00:00",
          "2021-06-22T00:00:00",
          "2021-06-21T00:00:00",
          "2021-06-18T00:00:00",
          "2021-06-17T00:00:00",
          "2021-06-16T00:00:00",
          "2021-06-15T00:00:00",
          "2021-06-14T00:00:00",
          "2021-06-11T00:00:00",
          "2021-06-10T00:00:00",
          "2021-06-09T00:00:00",
          "2021-06-08T00:00:00",
          "2021-06-04T00:00:00",
          "2021-06-03T00:00:00",
          "2021-06-02T00:00:00",
          "2021-06-01T00:00:00",
          "2021-05-31T00:00:00",
          "2021-05-28T00:00:00",
          "2021-05-27T00:00:00",
          "2021-05-26T00:00:00",
          "2021-05-25T00:00:00",
          "2021-05-24T00:00:00",
          "2021-05-21T00:00:00",
          "2021-05-20T00:00:00",
          "2021-05-19T00:00:00",
          "2021-05-18T00:00:00",
          "2021-05-17T00:00:00",
          "2021-05-14T00:00:00",
          "2021-05-13T00:00:00",
          "2021-05-12T00:00:00",
          "2021-05-11T00:00:00",
          "2021-05-10T00:00:00",
          "2021-05-07T00:00:00",
          "2021-05-06T00:00:00",
          "2021-05-05T00:00:00",
          "2021-05-04T00:00:00",
          "2021-04-30T00:00:00",
          "2021-04-29T00:00:00",
          "2021-04-28T00:00:00",
          "2021-04-27T00:00:00",
          "2021-04-26T00:00:00",
          "2021-04-23T00:00:00",
          "2021-04-22T00:00:00",
          "2021-04-21T00:00:00",
          "2021-04-20T00:00:00",
          "2021-04-15T00:00:00",
          "2021-04-14T00:00:00",
          "2021-04-13T00:00:00",
          "2021-04-12T00:00:00",
          "2021-04-08T00:00:00",
          "2021-04-07T00:00:00",
          "2021-04-06T00:00:00",
          "2021-04-01T00:00:00",
          "2021-03-31T00:00:00",
          "2021-03-30T00:00:00",
          "2021-03-29T00:00:00",
          "2021-03-26T00:00:00",
          "2021-03-25T00:00:00",
          "2021-03-24T00:00:00",
          "2021-03-23T00:00:00",
          "2021-03-22T00:00:00",
          "2021-03-19T00:00:00",
          "2021-03-18T00:00:00",
          "2021-03-16T00:00:00",
          "2021-03-15T00:00:00",
          "2021-03-12T00:00:00",
          "2021-03-11T00:00:00",
          "2021-03-10T00:00:00",
          "2021-03-09T00:00:00",
          "2021-03-08T00:00:00",
          "2021-03-05T00:00:00",
          "2021-03-04T00:00:00",
          "2021-03-03T00:00:00",
          "2021-03-02T00:00:00",
          "2021-03-01T00:00:00",
          "2021-02-26T00:00:00",
          "2021-02-25T00:00:00",
          "2021-02-24T00:00:00",
          "2021-02-23T00:00:00",
          "2021-02-22T00:00:00",
          "2021-02-19T00:00:00",
          "2021-02-18T00:00:00",
          "2021-02-17T00:00:00",
          "2021-02-16T00:00:00",
          "2021-02-15T00:00:00",
          "2021-02-12T00:00:00",
          "2021-02-11T00:00:00",
          "2021-02-10T00:00:00",
          "2021-02-09T00:00:00",
          "2021-02-08T00:00:00",
          "2021-02-05T00:00:00",
          "2021-02-04T00:00:00",
          "2021-02-03T00:00:00",
          "2021-02-02T00:00:00",
          "2021-02-01T00:00:00",
          "2021-01-29T00:00:00",
          "2021-01-28T00:00:00",
          "2021-01-27T00:00:00",
          "2021-01-26T00:00:00",
          "2021-01-25T00:00:00",
          "2021-01-22T00:00:00",
          "2021-01-21T00:00:00",
          "2021-01-20T00:00:00",
          "2021-01-19T00:00:00",
          "2021-01-18T00:00:00",
          "2021-01-15T00:00:00",
          "2021-01-14T00:00:00",
          "2021-01-13T00:00:00",
          "2021-01-12T00:00:00",
          "2021-01-11T00:00:00",
          "2021-01-08T00:00:00",
          "2021-01-07T00:00:00",
          "2021-01-06T00:00:00",
          "2021-01-05T00:00:00",
          "2021-01-04T00:00:00",
          "2020-12-31T00:00:00",
          "2020-12-30T00:00:00",
          "2020-12-24T00:00:00",
          "2020-12-23T00:00:00",
          "2020-12-22T00:00:00",
          "2020-12-21T00:00:00",
          "2020-12-18T00:00:00",
          "2020-12-17T00:00:00",
          "2020-12-16T00:00:00",
          "2020-12-15T00:00:00",
          "2020-12-14T00:00:00",
          "2020-12-11T00:00:00",
          "2020-12-10T00:00:00",
          "2020-12-09T00:00:00",
          "2020-12-08T00:00:00"
         ],
         "y": [
          null,
          null,
          null,
          null,
          0.03781002485980227,
          0.03781002485980227,
          0.018149849696557217,
          0.04071217305573287,
          0.04071217305573287,
          0.027895377834483655,
          0.027895377834483655,
          0.027895377834483655,
          0.021850677428653868,
          0.05546266935716344,
          0.043788129311819204,
          0.055340981149478136,
          0.07265483096033272,
          0.07265483096033272,
          0.056600457022323844,
          0.08038905490127145,
          0.08531083377277784,
          0.04549302929389857,
          0.04549302929389857,
          0.029169907767529646,
          0.035672351132233604,
          0.027732736930388517,
          0.045792563600782724,
          0.05166340508806259,
          0.06636846519429676,
          0.050776517237581066,
          0.02010265183917866,
          0.020256260300919784,
          0.014324224324752936,
          0.014324224324752936,
          0.02838416406786823,
          0.031869799570882734,
          0.03260243864147771,
          0.06295462870898526,
          0.05078124999999998,
          0.03681915001521448,
          0.036083519156699766,
          0.03540136743479352,
          0.03540136743479352,
          0.02808618504435987,
          0.018859315589353606,
          0.030671736375158267,
          0.030671736375158267,
          0.030671736375158267,
          0.018384010419275527,
          0.02967990275526735,
          0.023386769480519407,
          0.012733360389610452,
          0.01831258926749652,
          0.02316104405240904,
          0.036636354134002326,
          0.036636354134002326,
          0.024563604055607757,
          0.01797846764921089,
          0.022843039437063607,
          0.022843039437063607,
          0.031455127868508126,
          0.05240770886940089,
          0.055978574804390197,
          0.0563468135980871,
          0.06761022299154869,
          0.06312060276433315,
          0.07991446615943106,
          0.06859561066824141,
          0.03557463042441594,
          0.01924340561344223,
          0.01642873859115388,
          0.024151649894687658,
          0.024151649894687658,
          0.024151649894687658,
          0.014183082271147205,
          0.02836616454229441,
          0.035411355735805304,
          0.029779191444244558,
          0.03768982972848592,
          0.018151442633313815,
          0.018151442633313815,
          0.018151442633313815,
          0.021888878818091206,
          0.034327466568631955,
          0.04102492946672219,
          0.04411216694615237,
          0.03722854188210952,
          0.022891792798721364,
          0.01631098994077267,
          0.011328382062611622,
          0.03333173238557221,
          0.0535723030213996,
          0.0535723030213996,
          0.04906713677097101,
          0.03388668527496206,
          0.035796484011556814,
          0.02275891871128807,
          0.02275891871128807,
          0.04911893215537522,
          0.06046709531013615,
          0.0568197879858657,
          0.0568197879858657,
          0.02852033564124902,
          0.03549995383621096,
          0.03344888972172766,
          0.03436957846860773,
          0.029352464012753675,
          0.03388697976326829,
          0.026011836578846797,
          0.03760977472317662,
          0.03760977472317662,
          0.03760977472317662,
          0.02896630064369549,
          0.03086917350277395,
          0.034326579261024975,
          0.04911753297129566,
          0.037495149398525406,
          0.023913465269693544,
          0.03371168024835081,
          0.038950329840900313,
          0.038950329840900313,
          0.01468567909422515,
          0.01353333648795729,
          0.01353333648795729,
          0.01353333648795729,
          0.01353333648795729,
          0.010044327077242336,
          0.016221824012072113,
          0.016221824012072113,
          0.016221824012072113,
          0.01344996237772768,
          0.020166635106987407,
          0.01751562204128011,
          0.011351762135461232,
          0.023094688221709028,
          0.01664742109314858,
          0.033656198023676684,
          0.029938362195479813,
          0.019812151452891162,
          0.019812151452891162,
          0.018197828001174046,
          0.0242606170956153,
          0.03433881627987869,
          0.039865946378551446,
          0.07469615565176581,
          0.05998643784883429,
          0.04965833811486108,
          0.042825100412080826,
          0.011579990610818493,
          0.01369504991897969,
          0.02711720777501194,
          0.03143282629507505,
          0.033991756329960814,
          0.03972826086956531,
          0.026141304347826178,
          0.054810659186535785,
          0.048022440392706964,
          0.03443046506403073,
          0.037460567823344004,
          0.03489987267044806,
          0.03489987267044806,
          0.03345294594281763,
          0.03744646371107779,
          0.08015974071073051,
          0.07660801845976345,
          0.07795698924731179,
          0.08730822873082274,
          0.0794498381877024,
          0.09778856526429355,
          0.07626766417290108,
          0.06290405336069793,
          0.0381751861290161,
          0.020832309733208838,
          0.024607949501923382,
          0.03167982521475752,
          0.06696451496944499,
          0.04945308889231249,
          0.047309162276624336,
          0.0418520434557683,
          0.05755473078371256,
          0.05755473078371256,
          0.04147167984508618,
          0.03975041686837702,
          0.016190629874670452,
          0.01854647401337078,
          0.06200460959019607,
          0.07426361878767207,
          0.063516433526669,
          0.05470260434436482,
          0.02149437052200615,
          0.05038098487433202,
          0.05672690763052206,
          0.055196613568007105,
          0.055196613568007105,
          0.03058683412732772,
          0.028187267131054704,
          0.028187267131054704,
          0.028187267131054704,
          0.03765667574931874,
          0.04909090909090919,
          0.07206748188405794,
          0.07206748188405794,
          0.03883605072463767,
          0.06249999999999995,
          0.12941576086956508,
          0.13479326869497363,
          0.13151461273474815,
          0.08509164535379357,
          0.03383458646616545,
          0.031198440077996038,
          0.04699765011749401,
          0.09289535523223841,
          0.06266407389402048,
          0.07151191054934371,
          0.059691514254333604,
          0.05390910351842435,
          0.05390910351842435,
          0.034208974184474446,
          0.02721824162948956,
          0.028701656211923048,
          0.020307775621643705,
          0.024689655172413748,
          0.031983636279113124,
          0.04442352941176466,
          0.04462016379553801,
          0.04037118530565394,
          0.030713943459511173,
          0.03185393804020582,
          0.03165970671069231,
          0.02185102457026315,
          0.02860056327085552,
          0.02860056327085552,
          0.026308139534883684,
          0.027054545454545446,
          0.03584352078239612,
          0.025079754601226956,
          0.01684895063553071,
          0.016761153561745123,
          0.018882965472572257,
          0.025518421582444207,
          0.032241659886086085,
          0.03268339866619149,
          0.02891269800584406,
          0.05049436895257221,
          0.04462388440288992,
          0.045229606768477704,
          0.037992869685521326,
          0.01873037833235781,
          0.01873037833235781,
          0.034214867237801344,
          0.02031602708803614,
          0.02031602708803614,
          0.024187173947410004,
          0.024187173947410004,
          0.04037583892617444,
          0.033181208053691194,
          0.021369127516778507,
          0.021369127516778507,
          0.010630872483221497,
          0.019553677824721085,
          0.019553677824721085,
          0.01863286751164561
         ]
        }
       ],
       "layout": {
        "template": {
         "data": {
          "bar": [
           {
            "error_x": {
             "color": "#2a3f5f"
            },
            "error_y": {
             "color": "#2a3f5f"
            },
            "marker": {
             "line": {
              "color": "#E5ECF6",
              "width": 0.5
             },
             "pattern": {
              "fillmode": "overlay",
              "size": 10,
              "solidity": 0.2
             }
            },
            "type": "bar"
           }
          ],
          "barpolar": [
           {
            "marker": {
             "line": {
              "color": "#E5ECF6",
              "width": 0.5
             },
             "pattern": {
              "fillmode": "overlay",
              "size": 10,
              "solidity": 0.2
             }
            },
            "type": "barpolar"
           }
          ],
          "carpet": [
           {
            "aaxis": {
             "endlinecolor": "#2a3f5f",
             "gridcolor": "white",
             "linecolor": "white",
             "minorgridcolor": "white",
             "startlinecolor": "#2a3f5f"
            },
            "baxis": {
             "endlinecolor": "#2a3f5f",
             "gridcolor": "white",
             "linecolor": "white",
             "minorgridcolor": "white",
             "startlinecolor": "#2a3f5f"
            },
            "type": "carpet"
           }
          ],
          "choropleth": [
           {
            "colorbar": {
             "outlinewidth": 0,
             "ticks": ""
            },
            "type": "choropleth"
           }
          ],
          "contour": [
           {
            "colorbar": {
             "outlinewidth": 0,
             "ticks": ""
            },
            "colorscale": [
             [
              0,
              "#0d0887"
             ],
             [
              0.1111111111111111,
              "#46039f"
             ],
             [
              0.2222222222222222,
              "#7201a8"
             ],
             [
              0.3333333333333333,
              "#9c179e"
             ],
             [
              0.4444444444444444,
              "#bd3786"
             ],
             [
              0.5555555555555556,
              "#d8576b"
             ],
             [
              0.6666666666666666,
              "#ed7953"
             ],
             [
              0.7777777777777778,
              "#fb9f3a"
             ],
             [
              0.8888888888888888,
              "#fdca26"
             ],
             [
              1,
              "#f0f921"
             ]
            ],
            "type": "contour"
           }
          ],
          "contourcarpet": [
           {
            "colorbar": {
             "outlinewidth": 0,
             "ticks": ""
            },
            "type": "contourcarpet"
           }
          ],
          "heatmap": [
           {
            "colorbar": {
             "outlinewidth": 0,
             "ticks": ""
            },
            "colorscale": [
             [
              0,
              "#0d0887"
             ],
             [
              0.1111111111111111,
              "#46039f"
             ],
             [
              0.2222222222222222,
              "#7201a8"
             ],
             [
              0.3333333333333333,
              "#9c179e"
             ],
             [
              0.4444444444444444,
              "#bd3786"
             ],
             [
              0.5555555555555556,
              "#d8576b"
             ],
             [
              0.6666666666666666,
              "#ed7953"
             ],
             [
              0.7777777777777778,
              "#fb9f3a"
             ],
             [
              0.8888888888888888,
              "#fdca26"
             ],
             [
              1,
              "#f0f921"
             ]
            ],
            "type": "heatmap"
           }
          ],
          "heatmapgl": [
           {
            "colorbar": {
             "outlinewidth": 0,
             "ticks": ""
            },
            "colorscale": [
             [
              0,
              "#0d0887"
             ],
             [
              0.1111111111111111,
              "#46039f"
             ],
             [
              0.2222222222222222,
              "#7201a8"
             ],
             [
              0.3333333333333333,
              "#9c179e"
             ],
             [
              0.4444444444444444,
              "#bd3786"
             ],
             [
              0.5555555555555556,
              "#d8576b"
             ],
             [
              0.6666666666666666,
              "#ed7953"
             ],
             [
              0.7777777777777778,
              "#fb9f3a"
             ],
             [
              0.8888888888888888,
              "#fdca26"
             ],
             [
              1,
              "#f0f921"
             ]
            ],
            "type": "heatmapgl"
           }
          ],
          "histogram": [
           {
            "marker": {
             "pattern": {
              "fillmode": "overlay",
              "size": 10,
              "solidity": 0.2
             }
            },
            "type": "histogram"
           }
          ],
          "histogram2d": [
           {
            "colorbar": {
             "outlinewidth": 0,
             "ticks": ""
            },
            "colorscale": [
             [
              0,
              "#0d0887"
             ],
             [
              0.1111111111111111,
              "#46039f"
             ],
             [
              0.2222222222222222,
              "#7201a8"
             ],
             [
              0.3333333333333333,
              "#9c179e"
             ],
             [
              0.4444444444444444,
              "#bd3786"
             ],
             [
              0.5555555555555556,
              "#d8576b"
             ],
             [
              0.6666666666666666,
              "#ed7953"
             ],
             [
              0.7777777777777778,
              "#fb9f3a"
             ],
             [
              0.8888888888888888,
              "#fdca26"
             ],
             [
              1,
              "#f0f921"
             ]
            ],
            "type": "histogram2d"
           }
          ],
          "histogram2dcontour": [
           {
            "colorbar": {
             "outlinewidth": 0,
             "ticks": ""
            },
            "colorscale": [
             [
              0,
              "#0d0887"
             ],
             [
              0.1111111111111111,
              "#46039f"
             ],
             [
              0.2222222222222222,
              "#7201a8"
             ],
             [
              0.3333333333333333,
              "#9c179e"
             ],
             [
              0.4444444444444444,
              "#bd3786"
             ],
             [
              0.5555555555555556,
              "#d8576b"
             ],
             [
              0.6666666666666666,
              "#ed7953"
             ],
             [
              0.7777777777777778,
              "#fb9f3a"
             ],
             [
              0.8888888888888888,
              "#fdca26"
             ],
             [
              1,
              "#f0f921"
             ]
            ],
            "type": "histogram2dcontour"
           }
          ],
          "mesh3d": [
           {
            "colorbar": {
             "outlinewidth": 0,
             "ticks": ""
            },
            "type": "mesh3d"
           }
          ],
          "parcoords": [
           {
            "line": {
             "colorbar": {
              "outlinewidth": 0,
              "ticks": ""
             }
            },
            "type": "parcoords"
           }
          ],
          "pie": [
           {
            "automargin": true,
            "type": "pie"
           }
          ],
          "scatter": [
           {
            "marker": {
             "colorbar": {
              "outlinewidth": 0,
              "ticks": ""
             }
            },
            "type": "scatter"
           }
          ],
          "scatter3d": [
           {
            "line": {
             "colorbar": {
              "outlinewidth": 0,
              "ticks": ""
             }
            },
            "marker": {
             "colorbar": {
              "outlinewidth": 0,
              "ticks": ""
             }
            },
            "type": "scatter3d"
           }
          ],
          "scattercarpet": [
           {
            "marker": {
             "colorbar": {
              "outlinewidth": 0,
              "ticks": ""
             }
            },
            "type": "scattercarpet"
           }
          ],
          "scattergeo": [
           {
            "marker": {
             "colorbar": {
              "outlinewidth": 0,
              "ticks": ""
             }
            },
            "type": "scattergeo"
           }
          ],
          "scattergl": [
           {
            "marker": {
             "colorbar": {
              "outlinewidth": 0,
              "ticks": ""
             }
            },
            "type": "scattergl"
           }
          ],
          "scattermapbox": [
           {
            "marker": {
             "colorbar": {
              "outlinewidth": 0,
              "ticks": ""
             }
            },
            "type": "scattermapbox"
           }
          ],
          "scatterpolar": [
           {
            "marker": {
             "colorbar": {
              "outlinewidth": 0,
              "ticks": ""
             }
            },
            "type": "scatterpolar"
           }
          ],
          "scatterpolargl": [
           {
            "marker": {
             "colorbar": {
              "outlinewidth": 0,
              "ticks": ""
             }
            },
            "type": "scatterpolargl"
           }
          ],
          "scatterternary": [
           {
            "marker": {
             "colorbar": {
              "outlinewidth": 0,
              "ticks": ""
             }
            },
            "type": "scatterternary"
           }
          ],
          "surface": [
           {
            "colorbar": {
             "outlinewidth": 0,
             "ticks": ""
            },
            "colorscale": [
             [
              0,
              "#0d0887"
             ],
             [
              0.1111111111111111,
              "#46039f"
             ],
             [
              0.2222222222222222,
              "#7201a8"
             ],
             [
              0.3333333333333333,
              "#9c179e"
             ],
             [
              0.4444444444444444,
              "#bd3786"
             ],
             [
              0.5555555555555556,
              "#d8576b"
             ],
             [
              0.6666666666666666,
              "#ed7953"
             ],
             [
              0.7777777777777778,
              "#fb9f3a"
             ],
             [
              0.8888888888888888,
              "#fdca26"
             ],
             [
              1,
              "#f0f921"
             ]
            ],
            "type": "surface"
           }
          ],
          "table": [
           {
            "cells": {
             "fill": {
              "color": "#EBF0F8"
             },
             "line": {
              "color": "white"
             }
            },
            "header": {
             "fill": {
              "color": "#C8D4E3"
             },
             "line": {
              "color": "white"
             }
            },
            "type": "table"
           }
          ]
         },
         "layout": {
          "annotationdefaults": {
           "arrowcolor": "#2a3f5f",
           "arrowhead": 0,
           "arrowwidth": 1
          },
          "autotypenumbers": "strict",
          "coloraxis": {
           "colorbar": {
            "outlinewidth": 0,
            "ticks": ""
           }
          },
          "colorscale": {
           "diverging": [
            [
             0,
             "#8e0152"
            ],
            [
             0.1,
             "#c51b7d"
            ],
            [
             0.2,
             "#de77ae"
            ],
            [
             0.3,
             "#f1b6da"
            ],
            [
             0.4,
             "#fde0ef"
            ],
            [
             0.5,
             "#f7f7f7"
            ],
            [
             0.6,
             "#e6f5d0"
            ],
            [
             0.7,
             "#b8e186"
            ],
            [
             0.8,
             "#7fbc41"
            ],
            [
             0.9,
             "#4d9221"
            ],
            [
             1,
             "#276419"
            ]
           ],
           "sequential": [
            [
             0,
             "#0d0887"
            ],
            [
             0.1111111111111111,
             "#46039f"
            ],
            [
             0.2222222222222222,
             "#7201a8"
            ],
            [
             0.3333333333333333,
             "#9c179e"
            ],
            [
             0.4444444444444444,
             "#bd3786"
            ],
            [
             0.5555555555555556,
             "#d8576b"
            ],
            [
             0.6666666666666666,
             "#ed7953"
            ],
            [
             0.7777777777777778,
             "#fb9f3a"
            ],
            [
             0.8888888888888888,
             "#fdca26"
            ],
            [
             1,
             "#f0f921"
            ]
           ],
           "sequentialminus": [
            [
             0,
             "#0d0887"
            ],
            [
             0.1111111111111111,
             "#46039f"
            ],
            [
             0.2222222222222222,
             "#7201a8"
            ],
            [
             0.3333333333333333,
             "#9c179e"
            ],
            [
             0.4444444444444444,
             "#bd3786"
            ],
            [
             0.5555555555555556,
             "#d8576b"
            ],
            [
             0.6666666666666666,
             "#ed7953"
            ],
            [
             0.7777777777777778,
             "#fb9f3a"
            ],
            [
             0.8888888888888888,
             "#fdca26"
            ],
            [
             1,
             "#f0f921"
            ]
           ]
          },
          "colorway": [
           "#636efa",
           "#EF553B",
           "#00cc96",
           "#ab63fa",
           "#FFA15A",
           "#19d3f3",
           "#FF6692",
           "#B6E880",
           "#FF97FF",
           "#FECB52"
          ],
          "font": {
           "color": "#2a3f5f"
          },
          "geo": {
           "bgcolor": "white",
           "lakecolor": "white",
           "landcolor": "#E5ECF6",
           "showlakes": true,
           "showland": true,
           "subunitcolor": "white"
          },
          "hoverlabel": {
           "align": "left"
          },
          "hovermode": "closest",
          "mapbox": {
           "style": "light"
          },
          "paper_bgcolor": "white",
          "plot_bgcolor": "#E5ECF6",
          "polar": {
           "angularaxis": {
            "gridcolor": "white",
            "linecolor": "white",
            "ticks": ""
           },
           "bgcolor": "#E5ECF6",
           "radialaxis": {
            "gridcolor": "white",
            "linecolor": "white",
            "ticks": ""
           }
          },
          "scene": {
           "xaxis": {
            "backgroundcolor": "#E5ECF6",
            "gridcolor": "white",
            "gridwidth": 2,
            "linecolor": "white",
            "showbackground": true,
            "ticks": "",
            "zerolinecolor": "white"
           },
           "yaxis": {
            "backgroundcolor": "#E5ECF6",
            "gridcolor": "white",
            "gridwidth": 2,
            "linecolor": "white",
            "showbackground": true,
            "ticks": "",
            "zerolinecolor": "white"
           },
           "zaxis": {
            "backgroundcolor": "#E5ECF6",
            "gridcolor": "white",
            "gridwidth": 2,
            "linecolor": "white",
            "showbackground": true,
            "ticks": "",
            "zerolinecolor": "white"
           }
          },
          "shapedefaults": {
           "line": {
            "color": "#2a3f5f"
           }
          },
          "ternary": {
           "aaxis": {
            "gridcolor": "white",
            "linecolor": "white",
            "ticks": ""
           },
           "baxis": {
            "gridcolor": "white",
            "linecolor": "white",
            "ticks": ""
           },
           "bgcolor": "#E5ECF6",
           "caxis": {
            "gridcolor": "white",
            "linecolor": "white",
            "ticks": ""
           }
          },
          "title": {
           "x": 0.05
          },
          "xaxis": {
           "automargin": true,
           "gridcolor": "white",
           "linecolor": "white",
           "ticks": "",
           "title": {
            "standoff": 15
           },
           "zerolinecolor": "white",
           "zerolinewidth": 2
          },
          "yaxis": {
           "automargin": true,
           "gridcolor": "white",
           "linecolor": "white",
           "ticks": "",
           "title": {
            "standoff": 15
           },
           "zerolinecolor": "white",
           "zerolinewidth": 2
          }
         }
        }
       }
      }
     },
     "metadata": {},
     "output_type": "display_data"
    }
   ],
   "source": [
    "fig = go.Figure(data=[ \n",
    "    go.Scatter(\n",
    "        x=df['Date'], \n",
    "        y=daily_max_rw,\n",
    "        line=dict(\n",
    "            color='green', \n",
    "            width=1)\n",
    "        ),\n",
    "    go.Scatter(\n",
    "        x=df['Date'], \n",
    "        y=weekly_max_rw,\n",
    "        line=dict(\n",
    "            color='red', \n",
    "            width=1)\n",
    "        )\n",
    "    ])\n",
    "\n",
    "fig.show()  "
   ]
  },
  {
   "cell_type": "code",
   "execution_count": null,
   "metadata": {},
   "outputs": [],
   "source": [
    "df['MA60'] = df['Close'].rolling(window=60).mean()\n",
    "df['MA20'] = df['Close'].rolling(window=20).mean()\n",
    "previous_20 = df['MA20'].shift(1)\n",
    "previous_60 = df['MA60'].shift(1)\n",
    "crossing_down = (((df['MA20'] <= df['MA60']) & (previous_20 >= previous_60)))\n",
    "crossing_up = (((df['MA20'] > df['MA60']) & (previous_20 < previous_60)))\n",
    "df['crossing_down'] = crossing_down\n",
    "df['crossing_up'] = crossing_up"
   ]
  },
  {
   "cell_type": "code",
   "execution_count": null,
   "metadata": {},
   "outputs": [],
   "source": [
    "# pandas condition\n",
    "# df.loc[df['MA20'] < df['MA60'], 'ema60<=200'] = 'True'"
   ]
  },
  {
   "cell_type": "code",
   "execution_count": null,
   "metadata": {},
   "outputs": [],
   "source": [
    "def myplot(df):\n",
    "    fig = go.Figure(data=[  go.Candlestick( x=df.index,\n",
    "                                        open=df['Open'],\n",
    "                                        high=df['High'],\n",
    "                                        low=df['Low'],\n",
    "                                        close=df['Close']),\n",
    "                        go.Scatter( x=df.index, \n",
    "                                    y=df['MA60'],\n",
    "                                    line=dict(\n",
    "                                        color='red', \n",
    "                                        width=1)\n",
    "                                    ),\n",
    "                        go.Scatter( x=df.index, \n",
    "                                    y=df['MA20'],\n",
    "                                    line=dict(\n",
    "                                        color='green', \n",
    "                                        width=1)\n",
    "                                    ),\n",
    "                        go.Scatter( x=df.loc[df['crossing_down'] == True].index,\n",
    "                                    y=df.loc[df['crossing_down'] == True]['MA20'],\n",
    "                                    mode = 'markers',\n",
    "                                    marker=dict(line=dict(color='black', width = 2),\n",
    "                                    symbol = 'diamond',\n",
    "                                    size = 8,\n",
    "                                    color = 'rgba(255, 255, 0, 0.6)'),\n",
    "                                    name = 'sell'\n",
    "                                    ),\n",
    "                        go.Scatter( x=df.loc[df['crossing_up'] == True].index,\n",
    "                                    y=df.loc[df['crossing_up'] == True]['MA20'],\n",
    "                                    mode = 'markers',\n",
    "                                    marker=dict(line=dict(color='black', width = 2),\n",
    "                                    symbol = 'diamond',\n",
    "                                    size = 8,\n",
    "                                    color = 'green'),\n",
    "                                    name = 'buy'\n",
    "                                    ),\n",
    "                    ],\n",
    "                    layout=go.Layout(\n",
    "                        yaxis=dict( autorange = True,\n",
    "                                    fixedrange= False)\n",
    "                    )\n",
    "                )\n",
    "    fig.show()"
   ]
  },
  {
   "cell_type": "code",
   "execution_count": null,
   "metadata": {},
   "outputs": [],
   "source": [
    "myplot(df)"
   ]
  },
  {
   "cell_type": "markdown",
   "metadata": {},
   "source": [
    "<h1>Create Database</h1>"
   ]
  },
  {
   "cell_type": "code",
   "execution_count": null,
   "metadata": {},
   "outputs": [],
   "source": [
    "def create_connection(db_file):\n",
    "    \"\"\" create a database connection to the SQLite database\n",
    "        specified by db_file\n",
    "    :param db_file: database file\n",
    "    :return: Connection object or None\n",
    "    \"\"\"\n",
    "    conn = None\n",
    "    try:\n",
    "        conn = sqlite3.connect(db_file)\n",
    "        return conn\n",
    "    except Exception as e:\n",
    "        print(e)\n",
    "    return conn"
   ]
  },
  {
   "cell_type": "code",
   "execution_count": null,
   "metadata": {},
   "outputs": [],
   "source": [
    "conn = create_connection('investing_stock_data.db')"
   ]
  },
  {
   "cell_type": "markdown",
   "metadata": {},
   "source": [
    "<h1>Scrape Data</h1>"
   ]
  },
  {
   "cell_type": "code",
   "execution_count": null,
   "metadata": {},
   "outputs": [],
   "source": [
    "def get_fund_data(country=None):\n",
    "    try:\n",
    "        # Scraping\n",
    "        funds_df = inv.funds.get_funds(country)\n",
    "        # Parsing\n",
    "        funds_reorder = funds_df[['symbol', 'name', 'country', 'issuer', 'isin', 'asset_class', 'currency', 'underlying']]\n",
    "        return funds_reorder\n",
    "    except Exception as e:\n",
    "        print(e)"
   ]
  },
  {
   "cell_type": "code",
   "execution_count": null,
   "metadata": {},
   "outputs": [],
   "source": [
    "def get_fund_hist_price(name, country, from_date, to_date):\n",
    "    try:\n",
    "        fund_hist_prices_df = inv.get_fund_historical_data(name=name, country=country, from_date=from_date, to_date=to_date)\n",
    "        return fund_hist_prices_df\n",
    "    except Exception as e:\n",
    "        print(e)"
   ]
  },
  {
   "cell_type": "markdown",
   "metadata": {},
   "source": [
    "<h1>Create Table</h1>"
   ]
  },
  {
   "cell_type": "code",
   "execution_count": null,
   "metadata": {},
   "outputs": [],
   "source": [
    "def sql_query(con, sql_query):\n",
    "    \"\"\" create a table from the create_table_sql statement\n",
    "    :param conn: Connection object\n",
    "    :param create_table_sql: a CREATE TABLE statement\n",
    "    :return:\n",
    "    \"\"\"\n",
    "    try:\n",
    "        c = con.cursor()\n",
    "        c.execute(sql_query)\n",
    "    except Exception as e:\n",
    "        print(e)\n",
    "\n",
    "# We can also close the connection if we are done with it.\n",
    "# Just be sure any changes have been committed or they will be lost.\n",
    "# con.close()"
   ]
  },
  {
   "cell_type": "code",
   "execution_count": null,
   "metadata": {},
   "outputs": [],
   "source": [
    "# Create table\n",
    "fundList_table_sql = \"\"\"CREATE TABLE IF NOT EXISTS 'fundList' (\n",
    "                        'symbol'    TEXT PRIMARY KEY,\n",
    "                        'name'      TEXT UNIQUE NOT NULL,\n",
    "                        'country'   TEXT NOT NULL,\n",
    "                        'issuer'    TEXT,\n",
    "                        'isin'      TEXT,\n",
    "                        'asset_class'   TEXT,\n",
    "                        'currency'      TEXT,\n",
    "                        'underlying'    TEXT\n",
    "                        )\"\"\"\n",
    "\n",
    "fundList_index_sql = \"\"\"CREATE UNIQUE INDEX IF NOT EXISTS 'idx_symbol'\n",
    "                        ON 'fundList' ('symbol')\"\"\"\n",
    "\n",
    "\n",
    "# Create table\n",
    "fundHistPrice_table_sql = \"\"\"CREATE TABLE IF NOT EXISTS 'fundHistPrice' (\n",
    "                        'symbol'    TEXT NOT NULL,\n",
    "                        date        TEXT NOT NULL,\n",
    "                        open        REAL,\n",
    "                        high        REAL,\n",
    "                        low         REAL,\n",
    "                        close       REAL NOT NULL,\n",
    "                        currency    TEXT NOT NULL,\n",
    "                        PRIMARY KEY (symbol, date)\n",
    "                        FOREIGN KEY ('symbol')\n",
    "                            REFERENCES 'fundList' ('symbol')\n",
    "                        )\"\"\"\n",
    "\n",
    "fundHistPrice_index_sql = \"\"\"CREATE UNIQUE INDEX IF NOT EXISTS 'idx_symbol_date'\n",
    "                            ON 'fundHistPrice' ('symbol', 'date')\"\"\"\n",
    "\n",
    "sql_query(conn, fundList_table_sql)\n",
    "sql_query(conn, fundList_index_sql)\n",
    "sql_query(conn, fundHistPrice_table_sql)\n",
    "sql_query(conn, fundHistPrice_index_sql)\n"
   ]
  },
  {
   "cell_type": "markdown",
   "metadata": {},
   "source": [
    "<h1>Add Data</h1>"
   ]
  },
  {
   "cell_type": "code",
   "execution_count": null,
   "metadata": {},
   "outputs": [],
   "source": [
    "# df to list of tuple for executemany()\n",
    "fund_data_df = get_fund_data()"
   ]
  },
  {
   "cell_type": "code",
   "execution_count": null,
   "metadata": {},
   "outputs": [],
   "source": [
    "data = list(fund_data_df.to_records(index=False))"
   ]
  },
  {
   "cell_type": "code",
   "execution_count": null,
   "metadata": {},
   "outputs": [],
   "source": [
    "def add_hist_data_sql(data):\n",
    "    sql_query = \"\"\"INSERT OR IGNORE INTO 'fundList' ('symbol', 'name', 'country', 'issuer', 'isin', 'asset_class', 'currency', 'underlying')\n",
    "                                VALUES (?, ?, ?, ?, ?, ?, ?, ?)\"\"\"\n",
    "    try:\n",
    "        c = conn.cursor()\n",
    "        c.executemany(sql_query, data)\n",
    "        conn.commit()\n",
    "    except Exception as e:\n",
    "        print(e)"
   ]
  },
  {
   "cell_type": "code",
   "execution_count": null,
   "metadata": {},
   "outputs": [],
   "source": [
    "add_hist_data_sql(data)"
   ]
  },
  {
   "cell_type": "markdown",
   "metadata": {},
   "source": [
    "<h1>Check</h1>"
   ]
  },
  {
   "cell_type": "code",
   "execution_count": null,
   "metadata": {},
   "outputs": [],
   "source": [
    "def read_sql_to_df(table_name, conn):\n",
    "    sql_query = pd.read_sql_query ('''\n",
    "                                SELECT * FROM {}\n",
    "                                '''.format(table_name), conn)\n",
    "    try:\n",
    "        df = pd.DataFrame(sql_query)\n",
    "        return df\n",
    "    except Exception as e:\n",
    "        print(e)"
   ]
  },
  {
   "cell_type": "code",
   "execution_count": null,
   "metadata": {},
   "outputs": [],
   "source": [
    "read_sql_to_df(table_name='fundList', conn=conn)"
   ]
  },
  {
   "cell_type": "code",
   "execution_count": null,
   "metadata": {},
   "outputs": [],
   "source": [
    "a = conn.execute(\"\"\"\n",
    "                SELECT name, country\n",
    "                FROM fundList\n",
    "                WHERE country IN ('thailand')\n",
    "                \"\"\")\n",
    "\n",
    "# 'ireland', 'luxembourg' ,'thailand', 'united states'\n",
    "data2 = a.fetchall()\n"
   ]
  },
  {
   "cell_type": "code",
   "execution_count": null,
   "metadata": {},
   "outputs": [],
   "source": [
    "def add_fund_hist_price_data_to_sql(fund_name, country, from_date, to_date):\n",
    "    sql_query = \"\"\"INSERT OR IGNORE \n",
    "                    INTO 'fundHistPrice' ('symbol', 'date', 'open', 'high', 'low', 'close', 'currency')\n",
    "                    VALUES (?, ?, ?, ?, ?, ?, ?)\"\"\"\n",
    "\n",
    "    fund_hist_prices_df = inv.get_fund_historical_data(fund=fund_name, country=country, from_date=from_date, to_date=to_date)\n",
    "    fund_hist_prices_df['Symbol'] = fund_name\n",
    "    fund_hist_prices_resetIndex_df = fund_hist_prices_df.reset_index(level=['Date'])\n",
    "    fund_hist_prices_resetIndex_reorder_df = fund_hist_prices_resetIndex_df[['Symbol', 'Date', 'Open', 'High', 'Low', 'Close', 'Currency']]\n",
    "    fund_hist_prices_resetIndex_reorder_df['Date'] = fund_hist_prices_resetIndex_reorder_df['Date'].astype(str)\n",
    "    fund_price_listoftuples = [tuple(i) for i in fund_hist_prices_resetIndex_reorder_df.to_numpy()]\n",
    "    fund_price_listoftuples\n",
    "\n",
    "    try:\n",
    "        c = conn.cursor()\n",
    "        c.executemany(sql_query, fund_price_listoftuples)\n",
    "    except Exception as e:\n",
    "        print(e)"
   ]
  },
  {
   "cell_type": "code",
   "execution_count": null,
   "metadata": {},
   "outputs": [],
   "source": [
    "for i in data2[:6]:\n",
    "    add_fund_hist_price_data_to_sql(i[0], i[1], from_date='01/01/1900', to_date='10/01/2022')\n",
    "    print(i[0] + ' done')\n",
    "    time.sleep(60)"
   ]
  },
  {
   "cell_type": "code",
   "execution_count": null,
   "metadata": {},
   "outputs": [],
   "source": [
    "add_fund_hist_price_data_to_sql('Baillie Gifford Worldwide Long Term Global Growth Fund Class B Usd Acc ', 'ireland', from_date='01/01/1900', to_date='10/01/2022')"
   ]
  },
  {
   "cell_type": "code",
   "execution_count": null,
   "metadata": {},
   "outputs": [],
   "source": [
    "sql_query = pd.read_sql_query ('''\n",
    "                               SELECT * FROM 'fundHistPrice'\n",
    "                               ''', conn)\n",
    "\n",
    "df = pd.DataFrame(sql_query)\n",
    "df"
   ]
  },
  {
   "cell_type": "code",
   "execution_count": null,
   "metadata": {},
   "outputs": [],
   "source": [
    "sql_query = pd.read_sql_query ('''\n",
    "                               SELECT DISTINCT symbol \n",
    "                               FROM 'fundHistPrice'\n",
    "                               ''', conn)\n",
    "\n",
    "df = pd.DataFrame(sql_query)\n",
    "df"
   ]
  },
  {
   "cell_type": "code",
   "execution_count": null,
   "metadata": {},
   "outputs": [],
   "source": [
    "sql_query = pd.read_sql_query ('''\n",
    "                               SELECT * FROM 'fundHistPrice'\n",
    "                               WHERE symbol='Principal Global Equity Fund A'\n",
    "                               ''', conn)\n",
    "\n",
    "df = pd.DataFrame(sql_query)\n",
    "df"
   ]
  },
  {
   "cell_type": "code",
   "execution_count": null,
   "metadata": {},
   "outputs": [],
   "source": [
    "trace1 = {\n",
    "    'x': df.index,\n",
    "    'open': df.Open,\n",
    "    'close': df.Close,\n",
    "    'high': df.High,\n",
    "    'low': df.Low,\n",
    "    'type': 'candlestick',\n",
    "    'name': 'MSFT',\n",
    "    'showlegend': True\n",
    "}"
   ]
  }
 ],
 "metadata": {
  "interpreter": {
   "hash": "5845355213345e1f91f6e6a6ff038fa50111f0cd7dbd7894865d1f5c39d4b846"
  },
  "kernelspec": {
   "display_name": "Python 3.9.6 64-bit ('.datasci': venv)",
   "language": "python",
   "name": "python3"
  },
  "language_info": {
   "codemirror_mode": {
    "name": "ipython",
    "version": 3
   },
   "file_extension": ".py",
   "mimetype": "text/x-python",
   "name": "python",
   "nbconvert_exporter": "python",
   "pygments_lexer": "ipython3",
   "version": "3.9.6"
  },
  "orig_nbformat": 4
 },
 "nbformat": 4,
 "nbformat_minor": 2
}
